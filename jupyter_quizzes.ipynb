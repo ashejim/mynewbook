{
 "cells": [
  {
   "cell_type": "markdown",
   "id": "b86db387-12c5-47c7-9c1a-99e68e8c98d4",
   "metadata": {},
   "source": [
    "# Quiz examples\n",
    "## Jupyter-Quiz"
   ]
  },
  {
   "cell_type": "code",
   "execution_count": 2,
   "id": "3fc58e08-b225-4026-97d0-e72ce9d0ce0b",
   "metadata": {},
   "outputs": [
    {
     "ename": "ImportError",
     "evalue": "cannot import name 'styles' from 'jupyterquiz' (C:\\Users\\Jim\\anaconda3\\envs\\jupyter-book\\lib\\site-packages\\jupyterquiz\\__init__.py)",
     "output_type": "error",
     "traceback": [
      "\u001b[1;31m---------------------------------------------------------------------------\u001b[0m",
      "\u001b[1;31mImportError\u001b[0m                               Traceback (most recent call last)",
      "\u001b[1;32m~\\AppData\\Local\\Temp\\ipykernel_202844\\1529966517.py\u001b[0m in \u001b[0;36m<module>\u001b[1;34m\u001b[0m\n\u001b[0;32m      1\u001b[0m \u001b[1;32mfrom\u001b[0m \u001b[0mjupyterquiz\u001b[0m \u001b[1;32mimport\u001b[0m \u001b[0mdisplay_quiz\u001b[0m\u001b[1;33m\u001b[0m\u001b[1;33m\u001b[0m\u001b[0m\n\u001b[1;32m----> 2\u001b[1;33m \u001b[1;32mfrom\u001b[0m \u001b[0mjupyterquiz\u001b[0m \u001b[1;32mimport\u001b[0m \u001b[0mstyles\u001b[0m\u001b[1;33m\u001b[0m\u001b[1;33m\u001b[0m\u001b[0m\n\u001b[0m\u001b[0;32m      3\u001b[0m \u001b[1;33m\u001b[0m\u001b[0m\n\u001b[0;32m      4\u001b[0m \u001b[0ms\u001b[0m\u001b[1;33m=\u001b[0m\u001b[0mstyles\u001b[0m\u001b[1;33m\u001b[0m\u001b[1;33m\u001b[0m\u001b[0m\n\u001b[0;32m      5\u001b[0m \u001b[0mprint\u001b[0m\u001b[1;33m(\u001b[0m\u001b[0ms\u001b[0m\u001b[1;33m)\u001b[0m\u001b[1;33m\u001b[0m\u001b[1;33m\u001b[0m\u001b[0m\n",
      "\u001b[1;31mImportError\u001b[0m: cannot import name 'styles' from 'jupyterquiz' (C:\\Users\\Jim\\anaconda3\\envs\\jupyter-book\\lib\\site-packages\\jupyterquiz\\__init__.py)"
     ]
    }
   ],
   "source": [
    "from jupyterquiz import display_quiz\n",
    "\n",
    "git_path=\"https://raw.githubusercontent.com/jmshea/jupyterquiz/main/examples/\"\n",
    "display_quiz(git_path+\"questions.json\")"
   ]
  },
  {
   "cell_type": "markdown",
   "id": "7ab09263-10e2-40a3-ab11-c33f0dab8cf5",
   "metadata": {},
   "source": [
    "## Widgets"
   ]
  },
  {
   "cell_type": "code",
   "execution_count": 5,
   "id": "65ae1f88-6055-4092-86cc-9cb8fd3dda02",
   "metadata": {},
   "outputs": [],
   "source": [
    "def create_multipleChoice_widget(description, options, correct_answer):\n",
    "    if correct_answer not in options:\n",
    "        options.append(correct_answer)\n",
    "    \n",
    "    correct_answer_index = options.index(correct_answer)\n",
    "    \n",
    "    radio_options = [(words, i) for i, words in enumerate(options)]\n",
    "    alternativ = widgets.RadioButtons(\n",
    "        options = radio_options,\n",
    "        description = '',\n",
    "        disabled = False\n",
    "    )\n",
    "    \n",
    "    description_out = widgets.Output()\n",
    "    with description_out:\n",
    "        print(description)\n",
    "        \n",
    "    feedback_out = widgets.Output()\n",
    "\n",
    "    def check_selection(b):\n",
    "        a = int(alternativ.value)\n",
    "        if a==correct_answer_index:\n",
    "            s = '\\x1b[6;30;42m' + \"Riktig.\" + '\\x1b[0m' +\"\\n\" #green color\n",
    "        else:\n",
    "            s = '\\x1b[5;30;41m' + \"Feil. \" + '\\x1b[0m' +\"\\n\" #red color\n",
    "        with feedback_out:\n",
    "            clear_output()\n",
    "            print(s)\n",
    "        return\n",
    "    \n",
    "    check = widgets.Button(description=\"submit\")\n",
    "    check.on_click(check_selection)\n",
    "    \n",
    "    \n",
    "    return widgets.VBox([description_out, alternativ, check, feedback_out])\n",
    "\n",
    "import ipywidgets as widgets\n",
    "import sys\n",
    "from IPython.display import display\n",
    "from IPython.display import clear_output"
   ]
  },
  {
   "cell_type": "code",
   "execution_count": 6,
   "id": "f3a49316-3690-4e08-a581-6b903fea1fb9",
   "metadata": {},
   "outputs": [],
   "source": [
    "Q1 = create_multipleChoice_widget('blablabla',['apple','banana','pear'],'pear')\n",
    "Q2 = create_multipleChoice_widget('lalalalal',['cat','dog','mouse'],'dog')\n",
    "Q3 = create_multipleChoice_widget('jajajajaj',['blue','white','red'],'white')"
   ]
  },
  {
   "cell_type": "code",
   "execution_count": 7,
   "id": "ef4a6e07-f272-4c40-986b-dc27e6fd5621",
   "metadata": {},
   "outputs": [
    {
     "data": {
      "application/vnd.jupyter.widget-view+json": {
       "model_id": "baaa140c806c4e1c96e4cad1e10b5107",
       "version_major": 2,
       "version_minor": 0
      },
      "text/plain": [
       "VBox(children=(Output(outputs=({'name': 'stdout', 'text': 'jajajajaj\\n', 'output_type': 'stream'},)), RadioBut…"
      ]
     },
     "metadata": {},
     "output_type": "display_data"
    }
   ],
   "source": [
    "These apparently need a kernel to run\n",
    "\n",
    "Q1"
   ]
  },
  {
   "cell_type": "code",
   "execution_count": 8,
   "id": "2983df82-afcc-4734-91ad-28e518bfd108",
   "metadata": {},
   "outputs": [
    {
     "data": {
      "application/vnd.jupyter.widget-view+json": {
       "model_id": "4c9757059b9a4d7081c39122022b4357",
       "version_major": 2,
       "version_minor": 0
      },
      "text/plain": [
       "VBox(children=(Output(outputs=({'name': 'stdout', 'text': 'lalalalal\\n', 'output_type': 'stream'},)), RadioBut…"
      ]
     },
     "metadata": {},
     "output_type": "display_data"
    }
   ],
   "source": [
    "Q2"
   ]
  },
  {
   "cell_type": "code",
   "execution_count": null,
   "id": "c5d4ad1c-145b-485f-9452-bd4309caf3f0",
   "metadata": {},
   "outputs": [],
   "source": []
  }
 ],
 "metadata": {
  "kernelspec": {
   "display_name": "Python 3 (ipykernel)",
   "language": "python",
   "name": "python3"
  },
  "language_info": {
   "codemirror_mode": {
    "name": "ipython",
    "version": 3
   },
   "file_extension": ".py",
   "mimetype": "text/x-python",
   "name": "python",
   "nbconvert_exporter": "python",
   "pygments_lexer": "ipython3",
   "version": "3.7.13"
  }
 },
 "nbformat": 4,
 "nbformat_minor": 5
}
