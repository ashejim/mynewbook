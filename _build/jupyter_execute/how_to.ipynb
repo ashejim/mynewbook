{
 "cells": [
  {
   "cell_type": "markdown",
   "id": "d1fb4f2f-cddb-4f37-a345-ff4c6d202533",
   "metadata": {},
   "source": [
    "# How to do stuff in Jupyter-Books"
   ]
  },
  {
   "cell_type": "markdown",
   "id": "12d38022-c4bd-4636-bb3c-07e4d3ec5aa2",
   "metadata": {},
   "source": [
    "## Images"
   ]
  },
  {
   "cell_type": "markdown",
   "id": "12148490-141a-4d3d-aa5c-5be1f80d76f0",
   "metadata": {},
   "source": [
    "### Data plotting"
   ]
  },
  {
   "cell_type": "code",
   "execution_count": 1,
   "id": "98cc1a88-a554-45f0-8cc7-b08d7d99e68c",
   "metadata": {
    "tags": []
   },
   "outputs": [
    {
     "data": {
      "image/png": "[encoded data removed]",
      "text/plain": [
       "<Figure size 432x288 with 1 Axes>"
      ]
     },
     "metadata": {
      "filenames": {
       "image/png": "C:\\Users\\Jim\\OneDrive\\jupyter-books\\D195\\_build\\jupyter_execute\\how_to_3_0.png"
      },
      "needs_background": "light"
     },
     "output_type": "display_data"
    }
   ],
   "source": [
    "#required import\n",
    "import pandas as pd\n",
    "import numpy as np\n",
    "import matplotlib.pyplot as plt\n",
    "import seaborn as sns\n",
    "\n",
    "##Machine Learning for Hackers, Drew Conway & John Myles-While, O'Reilly Media.\n",
    "url = \"https://raw.githubusercontent.com/johnmyleswhite/ML_for_Hackers/master/02-Exploration/data/01_heights_weights_genders.csv\"\n",
    "df = pd.read_csv(url)\n",
    "df_sample = df.loc[df['Gender']== 'Male',['Gender','Height']].sample(50, random_state=12, ignore_index=True);\n",
    "dfht = df[['Height']]\n",
    "\n",
    "# Plot\n",
    "pop_ht = np.random.normal(size=50,loc=66.36756, scale=3.84) #a normal dist adj to Mean and Std\n",
    "\n",
    "fig, ax = plt.subplots();\n",
    "sns.kdeplot(pop_ht,color=\"r\", shade = True, label=\"Adults heights\");\n",
    "sns.histplot(df_sample, x = 'Height', stat = 'probability', kde = True, color=\"dodgerblue\", label=\"Sample Men heights\",bins = 6); \n",
    "\n",
    "plt.axvline(x=68.929605, color='b', dashes=(3, 3), zorder=0,linewidth=1);\n",
    "plt.axvline(x=66.367560, color='red', dashes=(3, 3), zorder=0,linewidth=1);\n",
    "plt.xlim(55,80)\n",
    "plt.ylim(0,.38)\n",
    "plt.legend();"
   ]
  },
  {
   "cell_type": "markdown",
   "id": "298898bd-6f77-47f2-8248-58ccdc2fc040",
   "metadata": {},
   "source": [
    "### Dataframe displays"
   ]
  },
  {
   "cell_type": "code",
   "execution_count": 2,
   "id": "be5407b2-627b-40e2-8776-add46383b9ef",
   "metadata": {
    "tags": []
   },
   "outputs": [],
   "source": [
    "#required import\n",
    "import pandas as pd\n",
    "\n",
    "##Machine Learning for Hackers, Drew Conway & John Myles-While, O'Reilly Media.\n",
    "url = \"https://raw.githubusercontent.com/johnmyleswhite/ML_for_Hackers/master/02-Exploration/data/01_heights_weights_genders.csv\"\n",
    "df = pd.read_csv(url)"
   ]
  },
  {
   "cell_type": "code",
   "execution_count": 3,
   "id": "220968cd-5cce-4677-aa4e-12164dc51075",
   "metadata": {
    "tags": []
   },
   "outputs": [
    {
     "data": {
      "text/html": [
       "<div>\n",
       "<style scoped>\n",
       "    .dataframe tbody tr th:only-of-type {\n",
       "        vertical-align: middle;\n",
       "    }\n",
       "\n",
       "    .dataframe tbody tr th {\n",
       "        vertical-align: top;\n",
       "    }\n",
       "\n",
       "    .dataframe thead th {\n",
       "        text-align: right;\n",
       "    }\n",
       "</style>\n",
       "<table border=\"1\" class=\"dataframe\">\n",
       "  <thead>\n",
       "    <tr style=\"text-align: right;\">\n",
       "      <th></th>\n",
       "      <th>Gender</th>\n",
       "      <th>Height</th>\n",
       "      <th>Weight</th>\n",
       "    </tr>\n",
       "  </thead>\n",
       "  <tbody>\n",
       "    <tr>\n",
       "      <th>0</th>\n",
       "      <td>Male</td>\n",
       "      <td>73.847017</td>\n",
       "      <td>241.893563</td>\n",
       "    </tr>\n",
       "    <tr>\n",
       "      <th>1</th>\n",
       "      <td>Male</td>\n",
       "      <td>68.781904</td>\n",
       "      <td>162.310473</td>\n",
       "    </tr>\n",
       "    <tr>\n",
       "      <th>2</th>\n",
       "      <td>Male</td>\n",
       "      <td>74.110105</td>\n",
       "      <td>212.740856</td>\n",
       "    </tr>\n",
       "    <tr>\n",
       "      <th>3</th>\n",
       "      <td>Male</td>\n",
       "      <td>71.730978</td>\n",
       "      <td>220.042470</td>\n",
       "    </tr>\n",
       "    <tr>\n",
       "      <th>4</th>\n",
       "      <td>Male</td>\n",
       "      <td>69.881796</td>\n",
       "      <td>206.349801</td>\n",
       "    </tr>\n",
       "    <tr>\n",
       "      <th>...</th>\n",
       "      <td>...</td>\n",
       "      <td>...</td>\n",
       "      <td>...</td>\n",
       "    </tr>\n",
       "    <tr>\n",
       "      <th>9995</th>\n",
       "      <td>Female</td>\n",
       "      <td>66.172652</td>\n",
       "      <td>136.777454</td>\n",
       "    </tr>\n",
       "    <tr>\n",
       "      <th>9996</th>\n",
       "      <td>Female</td>\n",
       "      <td>67.067155</td>\n",
       "      <td>170.867906</td>\n",
       "    </tr>\n",
       "    <tr>\n",
       "      <th>9997</th>\n",
       "      <td>Female</td>\n",
       "      <td>63.867992</td>\n",
       "      <td>128.475319</td>\n",
       "    </tr>\n",
       "    <tr>\n",
       "      <th>9998</th>\n",
       "      <td>Female</td>\n",
       "      <td>69.034243</td>\n",
       "      <td>163.852461</td>\n",
       "    </tr>\n",
       "    <tr>\n",
       "      <th>9999</th>\n",
       "      <td>Female</td>\n",
       "      <td>61.944246</td>\n",
       "      <td>113.649103</td>\n",
       "    </tr>\n",
       "  </tbody>\n",
       "</table>\n",
       "<p>10000 rows × 3 columns</p>\n",
       "</div>"
      ],
      "text/plain": [
       "      Gender     Height      Weight\n",
       "0       Male  73.847017  241.893563\n",
       "1       Male  68.781904  162.310473\n",
       "2       Male  74.110105  212.740856\n",
       "3       Male  71.730978  220.042470\n",
       "4       Male  69.881796  206.349801\n",
       "...      ...        ...         ...\n",
       "9995  Female  66.172652  136.777454\n",
       "9996  Female  67.067155  170.867906\n",
       "9997  Female  63.867992  128.475319\n",
       "9998  Female  69.034243  163.852461\n",
       "9999  Female  61.944246  113.649103\n",
       "\n",
       "[10000 rows x 3 columns]"
      ]
     },
     "metadata": {},
     "output_type": "display_data"
    },
    {
     "data": {
      "text/html": [
       "<div>\n",
       "<style scoped>\n",
       "    .dataframe tbody tr th:only-of-type {\n",
       "        vertical-align: middle;\n",
       "    }\n",
       "\n",
       "    .dataframe tbody tr th {\n",
       "        vertical-align: top;\n",
       "    }\n",
       "\n",
       "    .dataframe thead th {\n",
       "        text-align: right;\n",
       "    }\n",
       "</style>\n",
       "<table border=\"1\" class=\"dataframe\">\n",
       "  <thead>\n",
       "    <tr style=\"text-align: right;\">\n",
       "      <th></th>\n",
       "      <th>Gender</th>\n",
       "      <th>Height</th>\n",
       "    </tr>\n",
       "  </thead>\n",
       "  <tbody>\n",
       "    <tr>\n",
       "      <th>0</th>\n",
       "      <td>Male</td>\n",
       "      <td>63.651508</td>\n",
       "    </tr>\n",
       "    <tr>\n",
       "      <th>1</th>\n",
       "      <td>Male</td>\n",
       "      <td>72.390657</td>\n",
       "    </tr>\n",
       "    <tr>\n",
       "      <th>2</th>\n",
       "      <td>Male</td>\n",
       "      <td>69.008259</td>\n",
       "    </tr>\n",
       "    <tr>\n",
       "      <th>3</th>\n",
       "      <td>Male</td>\n",
       "      <td>71.357382</td>\n",
       "    </tr>\n",
       "    <tr>\n",
       "      <th>4</th>\n",
       "      <td>Male</td>\n",
       "      <td>70.490929</td>\n",
       "    </tr>\n",
       "    <tr>\n",
       "      <th>...</th>\n",
       "      <td>...</td>\n",
       "      <td>...</td>\n",
       "    </tr>\n",
       "    <tr>\n",
       "      <th>45</th>\n",
       "      <td>Male</td>\n",
       "      <td>73.847017</td>\n",
       "    </tr>\n",
       "    <tr>\n",
       "      <th>46</th>\n",
       "      <td>Male</td>\n",
       "      <td>69.624550</td>\n",
       "    </tr>\n",
       "    <tr>\n",
       "      <th>47</th>\n",
       "      <td>Male</td>\n",
       "      <td>69.481714</td>\n",
       "    </tr>\n",
       "    <tr>\n",
       "      <th>48</th>\n",
       "      <td>Male</td>\n",
       "      <td>67.459715</td>\n",
       "    </tr>\n",
       "    <tr>\n",
       "      <th>49</th>\n",
       "      <td>Male</td>\n",
       "      <td>67.318545</td>\n",
       "    </tr>\n",
       "  </tbody>\n",
       "</table>\n",
       "<p>50 rows × 2 columns</p>\n",
       "</div>"
      ],
      "text/plain": [
       "   Gender     Height\n",
       "0    Male  63.651508\n",
       "1    Male  72.390657\n",
       "2    Male  69.008259\n",
       "3    Male  71.357382\n",
       "4    Male  70.490929\n",
       "..    ...        ...\n",
       "45   Male  73.847017\n",
       "46   Male  69.624550\n",
       "47   Male  69.481714\n",
       "48   Male  67.459715\n",
       "49   Male  67.318545\n",
       "\n",
       "[50 rows x 2 columns]"
      ]
     },
     "metadata": {},
     "output_type": "display_data"
    }
   ],
   "source": [
    "##standard display. \n",
    "display(df)\n",
    "\n",
    "#set degault max and options\n",
    "df_sample = df.loc[df['Gender']== 'Male',['Gender','Height']].sample(50, random_state=12, ignore_index=True);\n",
    "pd.set_option('display.max_rows', 30)\n",
    "display(df_sample)\n",
    "\n",
    "#set scoll options in metdata. only displays in html output"
   ]
  },
  {
   "cell_type": "markdown",
   "id": "ca975f8c-f08b-422b-86ac-d3ae2bff5636",
   "metadata": {
    "tags": [
     "output_scroll"
    ]
   },
   "source": [
    "To display htmls outputs in scroll box, hidden box, etc., add metadata tags:\n",
    "\n",
    "```html\n",
    "\n",
    "    \"tags\": [\n",
    "        \"output_scroll\",\n",
    "        \"hide_input\"\n",
    "    ]\n",
    "\n",
    "```\n",
    "    \n",
    "Using Lab or Notebook metadata edit options"
   ]
  },
  {
   "cell_type": "markdown",
   "id": "3a54b86c-26d0-4ec3-be8c-31f29dc094d6",
   "metadata": {},
   "source": [
    "#### Display dataframes side by side"
   ]
  },
  {
   "cell_type": "code",
   "execution_count": 4,
   "id": "cbf8380c-e3df-429e-81be-cb9217128928",
   "metadata": {
    "tags": []
   },
   "outputs": [
    {
     "data": {
      "text/html": [
       "<style type=\"text/css\">\n",
       "</style>\n",
       "<table id=\"T_e4e63_\" style='display:inline'>\n",
       "  <caption>Sample Heights of 50 Adult Males</caption>\n",
       "  <thead>\n",
       "    <tr>\n",
       "      <th class=\"blank level0\" >&nbsp;</th>\n",
       "      <th class=\"col_heading level0 col0\" >Height</th>\n",
       "    </tr>\n",
       "  </thead>\n",
       "  <tbody>\n",
       "    <tr>\n",
       "      <th id=\"T_e4e63_level0_row0\" class=\"row_heading level0 row0\" >mean</th>\n",
       "      <td id=\"T_e4e63_row0_col0\" class=\"data row0 col0\" >68.929605</td>\n",
       "    </tr>\n",
       "    <tr>\n",
       "      <th id=\"T_e4e63_level0_row1\" class=\"row_heading level0 row1\" >std</th>\n",
       "      <td id=\"T_e4e63_row1_col0\" class=\"data row1 col0\" >3.028708</td>\n",
       "    </tr>\n",
       "  </tbody>\n",
       "</table>\n",
       "          <style type=\"text/css\">\n",
       "</style>\n",
       "<table id=\"T_47186_\" style='display:inline'>\n",
       "  <caption>Population of Adult Heights</caption>\n",
       "  <thead>\n",
       "    <tr>\n",
       "      <th class=\"blank level0\" >&nbsp;</th>\n",
       "      <th class=\"col_heading level0 col0\" >Height</th>\n",
       "    </tr>\n",
       "  </thead>\n",
       "  <tbody>\n",
       "    <tr>\n",
       "      <th id=\"T_47186_level0_row0\" class=\"row_heading level0 row0\" >mean</th>\n",
       "      <td id=\"T_47186_row0_col0\" class=\"data row0 col0\" >66.367560</td>\n",
       "    </tr>\n",
       "    <tr>\n",
       "      <th id=\"T_47186_level0_row1\" class=\"row_heading level0 row1\" >std</th>\n",
       "      <td id=\"T_47186_row1_col0\" class=\"data row1 col0\" >3.847528</td>\n",
       "    </tr>\n",
       "  </tbody>\n",
       "</table>\n"
      ]
     },
     "metadata": {},
     "output_type": "display_data"
    }
   ],
   "source": [
    "#required import\n",
    "import pandas as pd\n",
    "from IPython.display import display, display_html\n",
    "\n",
    "url = \"https://raw.githubusercontent.com/johnmyleswhite/ML_for_Hackers/master/02-Exploration/data/01_heights_weights_genders.csv\"\n",
    "df = pd.read_csv(url)\n",
    "dfht = df[['Height']]\n",
    "\n",
    "#display stats side by side\n",
    "df1_styler = df_sample.describe().loc[['mean','std']].style.set_table_attributes(\"style='display:inline'\").set_caption('Sample Heights of 50 Adult Males')\n",
    "df2_styler = dfht.describe().loc[['mean','std']].style.set_table_attributes(\"style='display:inline'\").set_caption('Population of Adult Heights')\n",
    "space = \"\\xa0\" * 10 #adjusts spacing\n",
    "\n",
    "display_html(df1_styler._repr_html_()+ space +df2_styler._repr_html_(), raw=True)"
   ]
  },
  {
   "cell_type": "markdown",
   "id": "be6cc908-b03e-4737-b59e-faf00c6d254a",
   "metadata": {},
   "source": [
    "### Figures\n"
   ]
  },
  {
   "cell_type": "markdown",
   "id": "8263d51d-8e25-4d2f-9288-1deb6fb23f1d",
   "metadata": {},
   "source": [
    "#### Drawing Figures\n",
    "\n",
    "#### using a function\n"
   ]
  },
  {
   "cell_type": "code",
   "execution_count": 5,
   "id": "b745591f-bba5-4d8c-9722-dad40d5b5d8d",
   "metadata": {},
   "outputs": [
    {
     "data": {
      "image/png": "[encoded data removed]",
      "text/plain": [
       "<Figure size 432x288 with 1 Axes>"
      ]
     },
     "metadata": {
      "filenames": {
       "image/png": "C:\\Users\\Jim\\OneDrive\\jupyter-books\\D195\\_build\\jupyter_execute\\how_to_12_0.png"
      },
      "needs_background": "light"
     },
     "output_type": "display_data"
    }
   ],
   "source": [
    "# %matplotlib notebook these lines have mysterious effect on layouts\n",
    "# %matplotlib inline\n",
    "from ipywidgets import interact, FloatSlider, interactive, fixed\n",
    "import matplotlib.patches as mpatches\n",
    "from matplotlib.collections import PatchCollection\n",
    "from scipy.stats import norm\n",
    "import math\n",
    "import numpy as np\n",
    "import matplotlib.pyplot as plt\n",
    "    \n",
    "#draws pdf of smampling means)\n",
    "def draw_pdf_smeans(mu, sigma, sample_size, lower_cond, upper_cond):\n",
    "    sigma_n = sigma/(math.sqrt(sample_size))\n",
    "    # sigma_n = 1\n",
    "    x = np.linspace(-4*sigma_n + mu, 4*sigma_n + mu, 1000)\n",
    "    y = norm.pdf(x, mu, sigma_n) # (x-values, location, scale) \n",
    "    # pop_ht = np.random.normal(size=50,loc=66.36756, scale=3.84) #a normal dist adj to Mean and Std\n",
    "    # z = x['x<67']\n",
    "    # print(z)\n",
    "    plt.xlabel('Density')\n",
    "    plt.ylabel('Height')\n",
    "    plt.plot(x, y)\n",
    "    plt.fill_between(x, y, 0, where = (x > lower_cond) & (x < upper_cond),color = 'dodgerblue')\n",
    "    plt.show()\n",
    "\n",
    "draw_pdf_smeans(66.4, 3.84, 50, 65, 67)"
   ]
  },
  {
   "cell_type": "markdown",
   "id": "f509c09a-ff90-4653-8594-d47bd1893d1a",
   "metadata": {},
   "source": [
    "#### Interactive Figures\n",
    "\n",
    "Sliders"
   ]
  },
  {
   "cell_type": "code",
   "execution_count": 6,
   "id": "dad28fd4-5065-4f6e-809b-abec024445dd",
   "metadata": {},
   "outputs": [
    {
     "data": {
      "application/vnd.jupyter.widget-view+json": {
       "model_id": "3bec91bd6cde4b25b592af3be38f790b",
       "version_major": 2,
       "version_minor": 0
      },
      "text/plain": [
       "HBox(children=(VBox(children=(FloatSlider(value=6.283185307179586, description='wavelength', max=20.0, min=0.1…"
      ]
     },
     "metadata": {},
     "output_type": "display_data"
    }
   ],
   "source": [
    "from IPython.display import display\n",
    "import numpy as np\n",
    "from ipywidgets import *\n",
    "import matplotlib.pyplot as plt\n",
    "\n",
    "def plot_oscillation(wavelength, magnitude, phase):\n",
    "    x = np.linspace(-20, 20, 1000)\n",
    "    plt.plot(x, magnitude*np.sin((x+phase)/(wavelength/(2*np.pi))))\n",
    "    plt.show()\n",
    "    \n",
    "w = dict(wavelength = FloatSlider(2*np.pi, min=0.1, max=20, step=0.1, description='wavelength'),\n",
    "         magnitude = FloatSlider(1, min=0.1, max=10, step=0.1, description='magnitude'),\n",
    "         phase = FloatSlider(0, min=0, max=10, step=0.1, description='phase'))\n",
    "\n",
    "output = interactive_output(plot_oscillation, w)\n",
    "box = HBox([VBox([*w.values()]), output])\n",
    "display(box)"
   ]
  },
  {
   "cell_type": "markdown",
   "id": "7d3ba855-644f-43c4-b7d7-d80d11b32a1b",
   "metadata": {},
   "source": [
    "The above will display the sliders, but not the image in html. To fix this see the example below where boxes are also used to place the slider widget. Note, in html the widget will appear -but not change the graph without a python kernel. "
   ]
  },
  {
   "cell_type": "code",
   "execution_count": 7,
   "id": "3e3747ae-8503-4d02-8833-53413ab3104f",
   "metadata": {
    "tags": []
   },
   "outputs": [
    {
     "data": {
      "application/vnd.jupyter.widget-view+json": {
       "model_id": "a5466bad77aa4f50bc7e7d6577376609",
       "version_major": 2,
       "version_minor": 0
      },
      "text/plain": [
       "VBox(children=(Box(children=(FloatSlider(value=67.0, description='Sample mean', max=68.5, min=64.5, step=0.5, …"
      ]
     },
     "metadata": {},
     "output_type": "display_data"
    }
   ],
   "source": [
    "from ipywidgets import interact, FloatSlider, interactive, fixed\n",
    "import matplotlib.patches as mpatches\n",
    "from matplotlib.collections import PatchCollection\n",
    "\n",
    "#imports\n",
    "import pandas as pd\n",
    "from ipywidgets import interact, interactive, fixed, interact_manual, Layout, Box, VBox, HBox, Button, Output, Tab\n",
    "# import ipywidgets as widgets\n",
    "from IPython.display import display, display_html\n",
    "import numpy as np\n",
    "import math\n",
    "import matplotlib.pyplot as plt\n",
    "import seaborn as sns\n",
    "from scipy.stats import norm\n",
    "import markdown\n",
    "from IPython.core.display import display, HTML\n",
    "from myst_nb import glue\n",
    "\n",
    "out = Output()\n",
    "\n",
    "mu = 66.4\n",
    "sigma = 3.84\n",
    "sample_size = 50,\n",
    "upper_cond= 66.4+4*3.84\n",
    "\n",
    "#draws pdf of smampling means)\n",
    "def update_plot(change):\n",
    "    lower_cond = change['new'] # new slider value \n",
    "    mu = 66.4\n",
    "    sigma = 3.84\n",
    "    sample_size = 50.0,\n",
    "    upper_cond= 66.4+4*3.84\n",
    "    sigma_n = sigma/(np.sqrt(sample_size)[0]) #std dev of sampling means\n",
    "    with out:\n",
    "        clear_output(wait=True)\n",
    "        x = np.linspace(-4*sigma_n + mu, 4*sigma_n + mu, 1000) #x-axis values\n",
    "        y = norm.pdf(x, mu, sigma_n) # (x-values, location, scale) #norm function\n",
    "        #plot\n",
    "        fig, axs = plt.subplots()\n",
    "        plt.plot(x, y)\n",
    "        plt.fill_between(x, y, 0, where = (x > lower_cond) & (x < upper_cond),color = 'pink')\n",
    "        plt.axvline(x=66.4, color='red', dashes=(3, 3), zorder=0,linewidth=1)\n",
    "        plt.axvline(x=lower_cond, color='blue', dashes=(3, 3), zorder=0,linewidth=1)\n",
    "        plt.xlabel('Density')\n",
    "        plt.ylabel('Height')\n",
    "        plt.text(lower_cond+.1,.6, r'$\\bar{}=${}'.format(r'x',round(lower_cond,2)), fontsize=12)\n",
    "        prob = 1-norm.cdf(lower_cond, loc=mu, scale=sigma_n)\n",
    "        plt.text(67.5,.3, r'prob.={}'.format(round(prob,3)), fontsize=12)\n",
    "        ##arrows\n",
    "        style=\"Simple,head_length=15,head_width=15,tail_width=3\"\n",
    "        arrow = arrow = mpatches.FancyArrowPatch((68,.275), ((lower_cond+68)/2,\n",
    "                                                 norm.pdf((lower_cond+68.75)/2, mu, sigma_n)/2),\n",
    "                                                 arrowstyle=style)\n",
    "        plt.gca().add_patch(arrow)\n",
    "#       display(fig)\n",
    "        plt.show()\n",
    "\n",
    "\n",
    "style ={'description_width': 'initial'};\n",
    "\n",
    "interact_layout = Layout(display='flex',\n",
    "#                     flex_flow='column', #default for VBox\n",
    "                    align_items = 'center',\n",
    "#                     align_content = 'center',\n",
    "                    justify_content = 'center',\n",
    "#                     border = 'solid', #centers widget\n",
    "                    )\n",
    "\n",
    "slider = FloatSlider(description='Sample mean', \n",
    "                                style = style,\n",
    "                                min=64.5, max=68.5, \n",
    "                                step = .5, value=67,\n",
    "#                                 layout = slider_layout\n",
    "                                )\n",
    "\n",
    "slider_box = Box([slider] , layout = interact_layout) \n",
    "fig_box = Box([out] , layout = interact_layout) \n",
    "slider.observe(update_plot, 'value')\n",
    "update_plot({'new': slider.value}) \n",
    "fig_and_slider = VBox(children = [slider_box, fig_box], layout=interact_layout)\n",
    "\n",
    "display(fig_and_slider)"
   ]
  },
  {
   "cell_type": "markdown",
   "id": "9c4450d9-d935-4d4e-9695-83f0a0eeb9ab",
   "metadata": {},
   "source": [
    "A graph with slider on the side using bqplot\n"
   ]
  },
  {
   "cell_type": "code",
   "execution_count": 8,
   "id": "9daf9d19-1152-4e78-883f-33ee198c712d",
   "metadata": {},
   "outputs": [
    {
     "data": {
      "application/vnd.jupyter.widget-view+json": {
       "model_id": "d3cc17e23cbe4f8f99397e5f69086dda",
       "version_major": 2,
       "version_minor": 0
      },
      "text/plain": [
       "HBox(children=(Figure(axes=[Axis(scale=LinearScale()), Axis(orientation='vertical', scale=LinearScale())], fig…"
      ]
     },
     "metadata": {},
     "output_type": "display_data"
    }
   ],
   "source": [
    "import numpy as np\n",
    "from bqplot import pyplot as plt\n",
    "from IPython.display import display\n",
    "from ipywidgets import interactive, fixed, IntSlider, HBox, Layout\n",
    "%matplotlib inline\n",
    "\n",
    "plt.figure(min_aspect_ratio=1, max_aspect_ratio=1)\n",
    "\n",
    "xs = np.random.randint(0, 5000 + 1, 100)\n",
    "ys = np.random.randint(0, 5000 + 1, 100)\n",
    "\n",
    "scat = plt.scatter(xs, ys)\n",
    "\n",
    "def rotate(theta, xs, ys):\n",
    "    new_xs = xs * np.cos(np.deg2rad(theta)) - ys * np.sin(np.deg2rad(theta))\n",
    "    new_xs -= new_xs.min()\n",
    "    new_ys = xs * np.sin(np.deg2rad(theta)) + ys * np.cos(np.deg2rad(theta))\n",
    "    new_ys -= new_ys.min()\n",
    "    return new_xs, new_ys\n",
    "\n",
    "def update_plot(theta, xs, ys):\n",
    "    new_xs, new_ys = rotate(theta, xs, ys)\n",
    "    scat.x, scat.y = new_xs, new_ys\n",
    "\n",
    "w = interactive(update_plot, \n",
    "             theta=IntSlider(min=-180, max=180, step=5,value=0, orientation='vertical'), \n",
    "             xs=fixed(xs), \n",
    "             ys=fixed(ys))\n",
    "\n",
    "box_layout = Layout(display='flex', flex_flow='row', justify_content='center', align_items='center')\n",
    "display(HBox([plt.current_figure(), w], layout=box_layout))"
   ]
  },
  {
   "cell_type": "markdown",
   "id": "2c8f8ebb-173a-4631-9a08-c4aec448e4b4",
   "metadata": {},
   "source": [
    "#### Figure Layout\n",
    "\n",
    "We can use flexboxes for more control"
   ]
  },
  {
   "cell_type": "code",
   "execution_count": 9,
   "id": "3f796377-654f-4cb9-a646-0920507eeb4b",
   "metadata": {},
   "outputs": [
    {
     "data": {
      "application/vnd.jupyter.widget-view+json": {
       "model_id": "8ef3135ca7044ac5a4f718be4d81039f",
       "version_major": 2,
       "version_minor": 0
      },
      "text/plain": [
       "Box(children=(Output(), Output(), Output()), layout=Layout(align_items='center', border='solid', display='flex…"
      ]
     },
     "metadata": {},
     "output_type": "display_data"
    }
   ],
   "source": [
    "from ipywidgets import interact, interactive, fixed, interact_manual, Layout, Box, VBox, HBox, Button, Output, Tab\n",
    "import markdown\n",
    "import pandas as pd\n",
    "import numpy as np\n",
    "import seaborn as sns\n",
    "import matplotlib.pyplot as plt\n",
    "\n",
    "url = \"https://raw.githubusercontent.com/johnmyleswhite/ML_for_Hackers/master/02-Exploration/data/01_heights_weights_genders.csv\"\n",
    "df = pd.read_csv(url)\n",
    "df_sample = df.loc[df['Gender']== 'Male',['Gender','Height']].sample(50, random_state=12, ignore_index=True);\n",
    "df_sample\n",
    "dfht = df[['Height']]\n",
    "      \n",
    "# Plot\n",
    "pop_ht = np.random.normal(size=50,loc=66.36756, scale=3.84) #a normal dist adj to Mean and Std\n",
    "out1 = Output()\n",
    "df1 = Output()\n",
    "df2 = Output()\n",
    "cap = Output()\n",
    "\n",
    "with df1:\n",
    "    display(df_sample.describe().loc[['mean','std']].style.set_table_attributes(\"style='display:inline'\").set_caption('Sample Heights of 50 Adult Males'))\n",
    "\n",
    "with df2: \n",
    "    display(dfht.describe().loc[['mean','std']].style.set_table_attributes(\"style='display:inline'\").set_caption('Population of Adult Heights'))\n",
    "    \n",
    "with out1:\n",
    "    fig, ax = plt.subplots();\n",
    "    sns.kdeplot(pop_ht,color=\"r\", shade = True, label=\"Adults heights\");\n",
    "    sns.histplot(df_sample, x = 'Height', stat = 'probability', kde = True, color=\"dodgerblue\", label=\"Sample Men heights\",bins = 6); \n",
    "    plt.axvline(x=68.929605, color='b', dashes=(3, 3), zorder=0,linewidth=1);\n",
    "    plt.axvline(x=66.367560, color='red', dashes=(3, 3), zorder=0,linewidth=1);\n",
    "    plt.xlim(55,80)\n",
    "    plt.ylim(0,.38)\n",
    "    plt.legend()\n",
    "    plt.show()\n",
    "\n",
    "box_layout = Layout(display='flex',\n",
    "                    flex_flow='row',\n",
    "                    align_items = 'center',\n",
    "                    justify_content = 'center',\n",
    "                    border='solid',\n",
    "                    width='100%')\n",
    "#border solid might help visualize layout\n",
    "\n",
    "box_images = Box(children = [df1, df2, out1],layout=box_layout)\n",
    "box_images"
   ]
  },
  {
   "cell_type": "markdown",
   "id": "7817b575-5281-4664-a6cb-a65906b27eb3",
   "metadata": {},
   "source": [
    "But gluing doesn't work with boxes"
   ]
  },
  {
   "cell_type": "code",
   "execution_count": 10,
   "id": "2de9c4d5-b6c2-4519-bb00-bb14f1bafa1a",
   "metadata": {},
   "outputs": [
    {
     "data": {
      "application/vnd.jupyter.widget-view+json": {
       "model_id": "8ef3135ca7044ac5a4f718be4d81039f",
       "version_major": 2,
       "version_minor": 0
      },
      "text/plain": [
       "Box(children=(Output(outputs=({'output_type': 'display_data', 'metadata': {}, 'data': {'text/plain': '<pandas.…"
      ]
     },
     "metadata": {},
     "output_type": "display_data"
    },
    {
     "data": {},
     "metadata": {
      "scrapbook": {
       "mime_prefix": "application/papermill.record/",
       "name": "box-images"
      }
     },
     "output_type": "display_data"
    }
   ],
   "source": [
    "from myst_nb import glue\n",
    "glue('box-images', box_images, display = False) "
   ]
  },
  {
   "cell_type": "markdown",
   "id": "5fab8b4a-cba0-4fec-81c0-3b2468eb986d",
   "metadata": {},
   "source": [
    "```{glue:figure} box-images\n",
    ":figwidth: 300px\n",
    ":name: box-images\n",
    "Gluing doesn't work with these flex boxes.\n",
    "```\n",
    "\n",
    "Another example"
   ]
  },
  {
   "cell_type": "code",
   "execution_count": 11,
   "id": "dd3a8461-9581-4333-af24-934b229bebdc",
   "metadata": {},
   "outputs": [],
   "source": [
    "#Simulate some data and bootstrap the mean of the data\n",
    "import numpy as np\n",
    "import pandas as pd\n",
    "import matplotlib.pyplot as plt\n",
    "\n",
    "n_points = 10000\n",
    "n_boots = 1000\n",
    "mean, sd = (3, .2)\n",
    "data = sd*np.random.randn(n_points) + mean\n",
    "bootstrap_indices = np.random.randint(0, n_points, n_points*n_boots).reshape((n_boots, n_points))"
   ]
  },
  {
   "cell_type": "code",
   "execution_count": 12,
   "id": "04b49834-75b4-4b83-99fc-ca532236a5c8",
   "metadata": {},
   "outputs": [
    {
     "data": {
      "image/png": "[encoded data removed]",
      "text/plain": [
       "<Figure size 432x288 with 1 Axes>"
      ]
     },
     "metadata": {
      "filenames": {
       "image/png": "C:\\Users\\Jim\\OneDrive\\jupyter-books\\D195\\_build\\jupyter_execute\\how_to_25_0.png"
      },
      "needs_background": "light"
     },
     "output_type": "display_data"
    },
    {
     "data": {
      "application/vnd.jupyter.widget-view+json": {
       "model_id": "1f961f021073439b9af3a847836f5fb8",
       "version_major": 2,
       "version_minor": 0
      },
      "text/plain": [
       "Box(children=(Output(), Output()), layout=Layout(align_items='center', border='solid', display='flex', flex_fl…"
      ]
     },
     "metadata": {},
     "output_type": "display_data"
    }
   ],
   "source": [
    "from ipywidgets import interact, interactive, fixed, interact_manual, Layout, Box, VBox, HBox, Button, Output, Tab\n",
    "import markdown\n",
    "from IPython.core.display import display, HTML\n",
    "\n",
    "%matplotlib inline\n",
    "\n",
    "# Calculate the mean of a bunch of random samples\n",
    "means = data[bootstrap_indices].mean(0)\n",
    "# Calculate the 95% confidence interval for the mean\n",
    "clo, chi = np.percentile(means, [2.5, 97.5])\n",
    "\n",
    "fig, ax = plt.subplots()\n",
    "ax.hist(means)\n",
    "for ln in [clo, chi]:\n",
    "    ax.axvline(ln, ls='--', c='r')\n",
    "ax.set_title(\"Bootstrap distribution and 95% CI\")\n",
    "plt.show()\n",
    "\n",
    "fig1 = Output()\n",
    "cap = Output()\n",
    "\n",
    "with fig1:\n",
    "    fig, ax = plt.subplots()\n",
    "    ax.hist(means)\n",
    "    for ln in [clo, chi]:\n",
    "        ax.axvline(ln, ls='--', c='r')\n",
    "    ax.set_title(\"Bootstrap distribution and 95% CI\")\n",
    "    plt.show()\n",
    "\n",
    "box_layout = Layout(display='flex',\n",
    "                    flex_flow='row',\n",
    "                    align_items = 'center',\n",
    "                    justify_content = 'center',\n",
    "                    border='solid',\n",
    "                    width='100%')\n",
    "\n",
    "box_images = Box(children = [fig1,fig1],layout=box_layout)\n",
    "box_images"
   ]
  },
  {
   "cell_type": "markdown",
   "id": "5a5ee9df-f477-43cd-a7c2-365b25267931",
   "metadata": {},
   "source": [
    "Note, this generates twice in Notebooks"
   ]
  },
  {
   "cell_type": "markdown",
   "id": "34a2ed6c-8a2a-4668-a6ad-e3585ff61829",
   "metadata": {
    "tags": []
   },
   "source": [
    "#### Captioning\n",
    "\n",
    "##### Captioning Hack\n",
    "This is a hack. Adding captions to saved images seems easy, but labeling, indexing, and captioning generated and Boxed images does not seem to be yet supported. Add the following as **Markdown** below the figure:"
   ]
  },
  {
   "cell_type": "markdown",
   "id": "d5712d02-1bff-454d-a886-69338f6291f7",
   "metadata": {
    "tags": []
   },
   "source": [
    "```{figure} data:image/gif;base64,R0lGODlhAQABAIAAAAAAAP///yH5BAEAAAAALAAAAAABAAEAAAIBRAA7\n",
    ":figclass: caption-hack\n",
    ":name: your-fig-name\n",
    "\n",
    "Your caption goes here\n",
    "```"
   ]
  },
  {
   "cell_type": "markdown",
   "id": "f78b3636-384b-4a3f-88ce-4e0f8c1cd215",
   "metadata": {
    "tags": []
   },
   "source": [
    "Add the following to the CSS file. For Jupyter-books, it should be added to \"bookfolder/_static/css_file.css\" The Css mode is necessary to center the image output so it aligns with the captioning. This is not ideal as it applies to all images. \n",
    "\n",
    "```css\n",
    "img {\n",
    "    display: block;\n",
    "    margin-left: auto;\n",
    "    margin-right: auto;\n",
    "}\n",
    ".caption-hack img {\n",
    "    margin-bottom: -28px;\n",
    "}\n",
    "```"
   ]
  },
  {
   "cell_type": "markdown",
   "id": "3aa672e3-e411-4d89-8480-9bee04590a15",
   "metadata": {
    "tags": []
   },
   "source": [
    "##### Captioning with glue\n",
    "\n",
    "With gluing you can label almost anything and reuse it wherever:"
   ]
  },
  {
   "cell_type": "code",
   "execution_count": 13,
   "id": "32707f6a-336c-473a-b70b-cf6cfe63e49c",
   "metadata": {
    "tags": []
   },
   "outputs": [
    {
     "data": {
      "text/plain": [
       "2.9997771498362074"
      ]
     },
     "metadata": {
      "scrapbook": {
       "mime_prefix": "application/papermill.record/",
       "name": "boot_mean"
      }
     },
     "output_type": "display_data"
    },
    {
     "data": {
      "text/plain": [
       "2.9876375533459543"
      ]
     },
     "metadata": {
      "scrapbook": {
       "mime_prefix": "",
       "name": "boot_clo"
      }
     },
     "output_type": "display_data"
    },
    {
     "data": {
      "text/plain": [
       "3.012175911495104"
      ]
     },
     "metadata": {
      "scrapbook": {
       "mime_prefix": "",
       "name": "boot_chi"
      }
     },
     "output_type": "display_data"
    }
   ],
   "source": [
    "import numpy as np\n",
    "from myst_nb import glue\n",
    "\n",
    "n_points = 10000\n",
    "n_boots = 1000\n",
    "mean, sd = (3, .2)\n",
    "data = sd*np.random.randn(n_points) + mean\n",
    "bootstrap_indices = np.random.randint(0, n_points, n_points*n_boots).reshape((n_boots, n_points))\n",
    "\n",
    "# Calculate the mean of a bunch of random samples\n",
    "means = data[bootstrap_indices].mean(0)\n",
    "# Calculate the 95% confidence interval for the mean\n",
    "clo, chi = np.percentile(means, [2.5, 97.5])\n",
    "# Store the values in our notebook\n",
    "glue(\"boot_mean\", means.mean(), display = False)\n",
    "glue(\"boot_clo\", clo)\n",
    "glue(\"boot_chi\", chi)"
   ]
  },
  {
   "cell_type": "markdown",
   "id": "9874da14-51bb-483a-b512-4306432bea74",
   "metadata": {
    "tags": []
   },
   "source": [
    "Here is the text: {glue:}`boot_mean`\n",
    "which only shows up in the html output. Similarly we can glue plots"
   ]
  },
  {
   "cell_type": "code",
   "execution_count": 14,
   "id": "d31e2cc5-7a65-4a81-a910-28274c590114",
   "metadata": {
    "tags": []
   },
   "outputs": [
    {
     "data": {
      "image/png": "[encoded data removed]",
      "text/plain": [
       "<Figure size 432x288 with 1 Axes>"
      ]
     },
     "metadata": {
      "filenames": {
       "image/png": "C:\\Users\\Jim\\OneDrive\\jupyter-books\\D195\\_build\\jupyter_execute\\how_to_33_0.png"
      },
      "scrapbook": {
       "mime_prefix": "application/papermill.record/",
       "name": "ht-distfig"
      }
     },
     "output_type": "display_data"
    }
   ],
   "source": [
    "# Visualize the historgram with the intervals\n",
    "fig, ax = plt.subplots()\n",
    "ax.hist(means)\n",
    "for ln in [clo, chi]:\n",
    "    ax.axvline(ln, ls='--', c='r')\n",
    "ax.set_title(\"Bootstrap distribution and 95% CI\")\n",
    "plt.close(fig) #suppresses image\n",
    "\n",
    "glue('ht-distfig', fig, display = False) "
   ]
  },
  {
   "cell_type": "markdown",
   "id": "fb3c9657-6209-4e2b-8605-d7aa0185195f",
   "metadata": {
    "tags": []
   },
   "source": [
    "Now we can glue and caption with numbering in Markdon:\n",
    "```{glue:figure} ht-distfig\n",
    ":figwidth: 300px\n",
    ":name: ht-distfig\n",
    "\n",
    "Comparing the distributions of the sample (blue) to the population (red) heights. Here's an embedded `{glue:text}` element: {glue:text}`boot_mean:.2f`.\n",
    "```"
   ]
  },
  {
   "cell_type": "code",
   "execution_count": null,
   "id": "673e6fe2-53b0-4059-9fbf-34ca6e598607",
   "metadata": {},
   "outputs": [],
   "source": []
  }
 ],
 "metadata": {
  "kernelspec": {
   "display_name": "Python 3 (ipykernel)",
   "language": "python",
   "name": "python3"
  },
  "language_info": {
   "codemirror_mode": {
    "name": "ipython",
    "version": 3
   },
   "file_extension": ".py",
   "mimetype": "text/x-python",
   "name": "python",
   "nbconvert_exporter": "python",
   "pygments_lexer": "ipython3",
   "version": "3.7.13"
  },
  "widgets": {
   "application/vnd.jupyter.widget-state+json": {
    "state": {
     "00b6d3686cd440ceba34807f8f4c8c58": {
      "model_module": "@jupyter-widgets/controls",
      "model_module_version": "1.5.0",
      "model_name": "SliderStyleModel",
      "state": {
       "_model_module": "@jupyter-widgets/controls",
       "_model_module_version": "1.5.0",
       "_model_name": "SliderStyleModel",
       "_view_count": null,
       "_view_module": "@jupyter-widgets/base",
       "_view_module_version": "1.2.0",
       "_view_name": "StyleView",
       "description_width": "",
       "handle_color": null
      }
     },
     "03c8abc82ce7495aa84af07911d9dbb1": {
      "buffers": [
       {
        "data": "AAAAAAAA8D8=",
        "encoding": "base64",
        "path": [
         "opacities",
         "value"
        ]
       },
       {
        "data": "AAAAAADcokAAAAAAABSfQAAAAAAAwHtAAAAAAABAfkAAAAAAANKxQAAAAAAA2qRAAAAAAABwikAAAAAAAMavQAAAAAAAKqJAAAAAAAAQsUAAAAAAAE+wQAAAAAAA3K5AAAAAAABYm0AAAAAAAESgQAAAAAAAzqpAAAAAAABskEAAAAAAAPysQAAAAAAAQLBAAAAAAABIokAAAAAAAJCTQAAAAAAAgGZAAAAAAAB4sEAAAAAAAHyQQAAAAAAAOJNAAAAAAABgeEAAAAAAAFSfQAAAAAAAF7NAAAAAAACop0AAAAAAAOiDQAAAAAAAAJ1AAAAAAABKoEAAAAAAAEqgQAAAAAAAMqlAAAAAAABwh0AAAAAAAIBAQAAAAAAAbJNAAAAAAACao0AAAAAAABSQQAAAAAAAAAAAAAAAAABAW0AAAAAAADioQAAAAAAAoGJAAAAAAADyqkAAAAAAAPGyQAAAAAAAAKtAAAAAAACMlUAAAAAAAC6iQAAAAAAAvqFAAAAAAACUqEAAAAAAAC6gQAAAAAAA8HpAAAAAAABAgUAAAAAAABydQAAAAAAAUJxAAAAAAAD6rkAAAAAAAOixQAAAAAAA8JNAAAAAAADDsEAAAAAAADytQAAAAAAACJxAAAAAAAC4gEAAAAAAAOiYQAAAAAAANJ5AAAAAAADggUAAAAAAAGKvQAAAAAAA7qlAAAAAAADolEAAAAAAACajQAAAAAAAKJ9AAAAAAAA4ikAAAAAAAByZQAAAAAAA+IdAAAAAAADxsEAAAAAAAHiEQAAAAAAABJ1AAAAAAADgYEAAAAAAAGiSQAAAAAAAkJ5AAAAAAACOrEAAAAAAAOylQAAAAAAA07FAAAAAAAAQfEAAAAAAALyaQAAAAAAAUHRAAAAAAADAVEAAAAAAAKCvQAAAAAAAWKlAAAAAAAB0pEAAAAAAALijQAAAAAAAoGhAAAAAAAAGsEAAAAAAABquQAAAAAAA2IRAAAAAAACgakAAAAAAAJqrQAAAAAAAdKNAAAAAAACAsEAAAAAAADByQAAAAAAAnJFAAAAAAABgd0A=",
        "encoding": "base64",
        "path": [
         "x",
         "value"
        ]
       },
       {
        "data": "AAAAAADAX0AAAAAAAESiQAAAAAAAhJVAAAAAAABosEAAAAAAAEiQQAAAAAAAYIFAAAAAAABYoEAAAAAAAGB6QAAAAAAA9K1AAAAAAACEl0AAAAAAADB/QAAAAAAADJFAAAAAAAB4mUAAAAAAAMSRQAAAAAAAOJFAAAAAAAAsm0AAAAAAAASQQAAAAAAApJVAAAAAAAC4hkAAAAAAAIilQAAAAAAAfLBAAAAAAACYpkAAAAAAAIBwQAAAAAAAUqNAAAAAAADhsUAAAAAAAKBuQAAAAAAArqpAAAAAAABpsEAAAAAAADinQAAAAAAAuLJAAAAAAABIlEAAAAAAACGxQAAAAAAAiKpAAAAAAAAhsUAAAAAAAHCAQAAAAAAAUHpAAAAAAAA0lkAAAAAAAAagQAAAAAAAsJBAAAAAAAAypUAAAAAAADCgQAAAAAAA0qpAAAAAAAA4qkAAAAAAAH6xQAAAAAAAiJNAAAAAAADSpUAAAAAAAKCSQAAAAAAAyIdAAAAAAAAAEEAAAAAAANKrQAAAAAAAUH5AAAAAAABmqUAAAAAAAAA2QAAAAAAAfLNAAAAAAAAAiEAAAAAAAACNQAAAAAAAJbNAAAAAAAAYikAAAAAAADmwQAAAAAAAkqNAAAAAAACirkAAAAAAAMyaQAAAAAAAkJ1AAAAAAACaokAAAAAAAIiFQAAAAAAAGIxAAAAAAADAkkAAAAAAAFGxQAAAAAAAhJFAAAAAAABgpkAAAAAAAIiDQAAAAAAAIbFAAAAAAAA+sEAAAAAAACiXQAAAAAAA6bFAAAAAAABglkAAAAAAAPiKQAAAAAAAfK1AAAAAAADIgkAAAAAAAISfQAAAAAAAYJBAAAAAAADarUAAAAAAAAAAAAAAAAAAAqpAAAAAAADYnkAAAAAAAOysQAAAAAAArKxAAAAAAAAIoUAAAAAAAKB2QAAAAAAAuIFAAAAAAAD4lUAAAAAAAMiKQAAAAAAAoG9AAAAAAACAs0AAAAAAAOiyQAAAAAAApJBAAAAAAACwpkAAAAAAALahQAAAAAAAcJ5AAAAAAACgYUA=",
        "encoding": "base64",
        "path": [
         "y",
         "value"
        ]
       }
      ],
      "model_module": "bqplot",
      "model_module_version": "^0.5.34",
      "model_name": "ScatterModel",
      "state": {
       "_model_module": "bqplot",
       "_model_module_version": "^0.5.34",
       "_model_name": "ScatterModel",
       "_view_count": null,
       "_view_module": "bqplot",
       "_view_module_version": "^0.5.34",
       "_view_name": "Scatter",
       "apply_clip": true,
       "color": null,
       "colors": [
        "steelblue"
       ],
       "default_size": 64,
       "default_skew": 0.5,
       "display_legend": false,
       "display_names": true,
       "drag_color": null,
       "drag_size": 5.0,
       "enable_delete": false,
       "enable_hover": true,
       "enable_move": false,
       "fill": true,
       "hovered_point": null,
       "hovered_style": {},
       "interactions": {
        "hover": "tooltip"
       },
       "label_display_horizontal_offset": 0.0,
       "label_display_vertical_offset": 0.0,
       "labels": [],
       "marker": "circle",
       "names": null,
       "names_unique": true,
       "opacities": {
        "dtype": "float64",
        "shape": [
         1
        ],
        "type": null
       },
       "opacity": null,
       "preserve_domain": {},
       "restrict_x": false,
       "restrict_y": false,
       "rotation": null,
       "scales": {
        "x": "IPY_MODEL_6d81cc709aea40efa7fecb55f5400641",
        "y": "IPY_MODEL_93323e6de875457cac520aa3fd813d91"
       },
       "scales_metadata": {
        "color": {
         "dimension": "color"
        },
        "opacity": {
         "dimension": "opacity"
        },
        "rotation": {
         "dimension": "rotation"
        },
        "size": {
         "dimension": "size"
        },
        "skew": {
         "dimension": "skew"
        },
        "x": {
         "dimension": "x",
         "orientation": "horizontal"
        },
        "y": {
         "dimension": "y",
         "orientation": "vertical"
        }
       },
       "selected": null,
       "selected_style": {},
       "size": null,
       "skew": null,
       "stroke": null,
       "stroke_width": 1.5,
       "tooltip": null,
       "tooltip_location": "mouse",
       "tooltip_style": {
        "opacity": 0.9
       },
       "unhovered_style": {},
       "unselected_style": {},
       "update_on_move": false,
       "visible": true,
       "x": {
        "dtype": "float64",
        "shape": [
         100
        ],
        "type": null
       },
       "y": {
        "dtype": "float64",
        "shape": [
         100
        ],
        "type": null
       }
      }
     },
     "05b7d2e50fa04d21a2195397412925cd": {
      "model_module": "@jupyter-widgets/base",
      "model_module_version": "1.2.0",
      "model_name": "LayoutModel",
      "state": {
       "_model_module": "@jupyter-widgets/base",
       "_model_module_version": "1.2.0",
       "_model_name": "LayoutModel",
       "_view_count": null,
       "_view_module": "@jupyter-widgets/base",
       "_view_module_version": "1.2.0",
       "_view_name": "LayoutView",
       "align_content": null,
       "align_items": "center",
       "align_self": null,
       "border": "solid",
       "bottom": null,
       "display": "flex",
       "flex": null,
       "flex_flow": "row",
       "grid_area": null,
       "grid_auto_columns": null,
       "grid_auto_flow": null,
       "grid_auto_rows": null,
       "grid_column": null,
       "grid_gap": null,
       "grid_row": null,
       "grid_template_areas": null,
       "grid_template_columns": null,
       "grid_template_rows": null,
       "height": null,
       "justify_content": "center",
       "justify_items": null,
       "left": null,
       "margin": null,
       "max_height": null,
       "max_width": null,
       "min_height": null,
       "min_width": null,
       "object_fit": null,
       "object_position": null,
       "order": null,
       "overflow": null,
       "overflow_x": null,
       "overflow_y": null,
       "padding": null,
       "right": null,
       "top": null,
       "visibility": null,
       "width": "100%"
      }
     },
     "06bdb750f4b14b789a044183fba30991": {
      "model_module": "@jupyter-widgets/output",
      "model_module_version": "1.0.0",
      "model_name": "OutputModel",
      "state": {
       "_dom_classes": [],
       "_model_module": "@jupyter-widgets/output",
       "_model_module_version": "1.0.0",
       "_model_name": "OutputModel",
       "_view_count": null,
       "_view_module": "@jupyter-widgets/output",
       "_view_module_version": "1.0.0",
       "_view_name": "OutputView",
       "layout": "IPY_MODEL_3d34c517a0fc476fb22de84eec713e9b",
       "msg_id": "",
       "outputs": [
        {
         "data": {
          "image/png": "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\n",
          "text/plain": "<Figure size 432x288 with 1 Axes>"
         },
         "metadata": {
          "needs_background": "light"
         },
         "output_type": "display_data"
        }
       ]
      }
     },
     "0800bf3189ad42cdb0c851d805bbbd7f": {
      "model_module": "@jupyter-widgets/output",
      "model_module_version": "1.0.0",
      "model_name": "OutputModel",
      "state": {
       "_dom_classes": [],
       "_model_module": "@jupyter-widgets/output",
       "_model_module_version": "1.0.0",
       "_model_name": "OutputModel",
       "_view_count": null,
       "_view_module": "@jupyter-widgets/output",
       "_view_module_version": "1.0.0",
       "_view_name": "OutputView",
       "layout": "IPY_MODEL_62621ce4892e437e994fb88d39fe7fc0",
       "msg_id": "",
       "outputs": []
      }
     },
     "0da82ca95eb64c71a3f27e63ea26562c": {
      "model_module": "@jupyter-widgets/controls",
      "model_module_version": "1.5.0",
      "model_name": "VBoxModel",
      "state": {
       "_dom_classes": [],
       "_model_module": "@jupyter-widgets/controls",
       "_model_module_version": "1.5.0",
       "_model_name": "VBoxModel",
       "_view_count": null,
       "_view_module": "@jupyter-widgets/controls",
       "_view_module_version": "1.5.0",
       "_view_name": "VBoxView",
       "box_style": "",
       "children": [
        "IPY_MODEL_6238cc421c604067b504e5310e322264",
        "IPY_MODEL_f5a569beb13e41c1ab9ada13b8d1c314",
        "IPY_MODEL_378eb38568dd4e659eca008b43c24793"
       ],
       "layout": "IPY_MODEL_6040009a65f642e4a4ef659fcf6d3847"
      }
     },
     "0def3e3dc08a4b809e07c8967cbd80ed": {
      "model_module": "@jupyter-widgets/base",
      "model_module_version": "1.2.0",
      "model_name": "LayoutModel",
      "state": {
       "_model_module": "@jupyter-widgets/base",
       "_model_module_version": "1.2.0",
       "_model_name": "LayoutModel",
       "_view_count": null,
       "_view_module": "@jupyter-widgets/base",
       "_view_module_version": "1.2.0",
       "_view_name": "LayoutView",
       "align_content": null,
       "align_items": null,
       "align_self": null,
       "border": null,
       "bottom": null,
       "display": null,
       "flex": null,
       "flex_flow": null,
       "grid_area": null,
       "grid_auto_columns": null,
       "grid_auto_flow": null,
       "grid_auto_rows": null,
       "grid_column": null,
       "grid_gap": null,
       "grid_row": null,
       "grid_template_areas": null,
       "grid_template_columns": null,
       "grid_template_rows": null,
       "height": null,
       "justify_content": null,
       "justify_items": null,
       "left": null,
       "margin": null,
       "max_height": null,
       "max_width": null,
       "min_height": null,
       "min_width": null,
       "object_fit": null,
       "object_position": null,
       "order": null,
       "overflow": null,
       "overflow_x": null,
       "overflow_y": null,
       "padding": null,
       "right": null,
       "top": null,
       "visibility": null,
       "width": null
      }
     },
     "13733c171f864edc8902b59027d8c415": {
      "model_module": "@jupyter-widgets/output",
      "model_module_version": "1.0.0",
      "model_name": "OutputModel",
      "state": {
       "_dom_classes": [],
       "_model_module": "@jupyter-widgets/output",
       "_model_module_version": "1.0.0",
       "_model_name": "OutputModel",
       "_view_count": null,
       "_view_module": "@jupyter-widgets/output",
       "_view_module_version": "1.0.0",
       "_view_name": "OutputView",
       "layout": "IPY_MODEL_6d6f4a713990411f8d9143318f47b32d",
       "msg_id": "",
       "outputs": []
      }
     },
     "174cd78258644db28eaf74b9daa38efc": {
      "model_module": "bqplot",
      "model_module_version": "^0.5.34",
      "model_name": "AxisModel",
      "state": {
       "_model_module": "bqplot",
       "_model_module_version": "^0.5.34",
       "_model_name": "AxisModel",
       "_view_count": null,
       "_view_module": "bqplot",
       "_view_module_version": "^0.5.34",
       "_view_name": "Axis",
       "color": null,
       "grid_color": null,
       "grid_lines": "solid",
       "label": "",
       "label_color": null,
       "label_location": "middle",
       "label_offset": null,
       "num_ticks": null,
       "offset": {},
       "orientation": "horizontal",
       "scale": "IPY_MODEL_6d81cc709aea40efa7fecb55f5400641",
       "side": null,
       "tick_format": null,
       "tick_rotate": 0,
       "tick_style": {},
       "tick_values": null,
       "visible": true
      }
     },
     "1c214a8b4ac545898f0764aa6d3fa13c": {
      "model_module": "@jupyter-widgets/controls",
      "model_module_version": "1.5.0",
      "model_name": "BoxModel",
      "state": {
       "_dom_classes": [],
       "_model_module": "@jupyter-widgets/controls",
       "_model_module_version": "1.5.0",
       "_model_name": "BoxModel",
       "_view_count": null,
       "_view_module": "@jupyter-widgets/controls",
       "_view_module_version": "1.5.0",
       "_view_name": "BoxView",
       "box_style": "",
       "children": [
        "IPY_MODEL_25e72cf0ae274cc4b65544b72552b57b"
       ],
       "layout": "IPY_MODEL_618aa2e82a624052b91f49a79185fbb3"
      }
     },
     "1f961f021073439b9af3a847836f5fb8": {
      "model_module": "@jupyter-widgets/controls",
      "model_module_version": "1.5.0",
      "model_name": "BoxModel",
      "state": {
       "_dom_classes": [],
       "_model_module": "@jupyter-widgets/controls",
       "_model_module_version": "1.5.0",
       "_model_name": "BoxModel",
       "_view_count": null,
       "_view_module": "@jupyter-widgets/controls",
       "_view_module_version": "1.5.0",
       "_view_name": "BoxView",
       "box_style": "",
       "children": [
        "IPY_MODEL_7e407c7aca4f45d5af781b7a12fe71f2",
        "IPY_MODEL_7e407c7aca4f45d5af781b7a12fe71f2"
       ],
       "layout": "IPY_MODEL_5ca18c60ef7c46cebbf82dc04a5406bd"
      }
     },
     "21a2a125b8f4406ea9f46f9b9441a13e": {
      "model_module": "@jupyter-widgets/base",
      "model_module_version": "1.2.0",
      "model_name": "LayoutModel",
      "state": {
       "_model_module": "@jupyter-widgets/base",
       "_model_module_version": "1.2.0",
       "_model_name": "LayoutModel",
       "_view_count": null,
       "_view_module": "@jupyter-widgets/base",
       "_view_module_version": "1.2.0",
       "_view_name": "LayoutView",
       "align_content": null,
       "align_items": null,
       "align_self": null,
       "border": null,
       "bottom": null,
       "display": null,
       "flex": null,
       "flex_flow": null,
       "grid_area": null,
       "grid_auto_columns": null,
       "grid_auto_flow": null,
       "grid_auto_rows": null,
       "grid_column": null,
       "grid_gap": null,
       "grid_row": null,
       "grid_template_areas": null,
       "grid_template_columns": null,
       "grid_template_rows": null,
       "height": null,
       "justify_content": null,
       "justify_items": null,
       "left": null,
       "margin": null,
       "max_height": null,
       "max_width": null,
       "min_height": null,
       "min_width": null,
       "object_fit": null,
       "object_position": null,
       "order": null,
       "overflow": null,
       "overflow_x": null,
       "overflow_y": null,
       "padding": null,
       "right": null,
       "top": null,
       "visibility": null,
       "width": null
      }
     },
     "222a02a2e06c422eb4ef29e650c570e3": {
      "model_module": "@jupyter-widgets/controls",
      "model_module_version": "1.5.0",
      "model_name": "IntSliderModel",
      "state": {
       "_dom_classes": [],
       "_model_module": "@jupyter-widgets/controls",
       "_model_module_version": "1.5.0",
       "_model_name": "IntSliderModel",
       "_view_count": null,
       "_view_module": "@jupyter-widgets/controls",
       "_view_module_version": "1.5.0",
       "_view_name": "IntSliderView",
       "continuous_update": true,
       "description": "theta",
       "description_tooltip": null,
       "disabled": false,
       "layout": "IPY_MODEL_dc2995ab62fd4ff98dee122c87aaa54c",
       "max": 180,
       "min": -180,
       "orientation": "vertical",
       "readout": true,
       "readout_format": "d",
       "step": 5,
       "style": "IPY_MODEL_00b6d3686cd440ceba34807f8f4c8c58",
       "value": 0
      }
     },
     "25e72cf0ae274cc4b65544b72552b57b": {
      "model_module": "@jupyter-widgets/output",
      "model_module_version": "1.0.0",
      "model_name": "OutputModel",
      "state": {
       "_dom_classes": [],
       "_model_module": "@jupyter-widgets/output",
       "_model_module_version": "1.0.0",
       "_model_name": "OutputModel",
       "_view_count": null,
       "_view_module": "@jupyter-widgets/output",
       "_view_module_version": "1.0.0",
       "_view_name": "OutputView",
       "layout": "IPY_MODEL_4ff415e09e424411a4be7b647c21b91e",
       "msg_id": "",
       "outputs": [
        {
         "ename": "NameError",
         "evalue": "name 'clear_output' is not defined",
         "output_type": "error",
         "traceback": [
          "\u001b[1;31m---------------------------------------------------------------------------\u001b[0m",
          "\u001b[1;31mNameError\u001b[0m                                 Traceback (most recent call last)",
          "\u001b[1;32m~\\AppData\\Local\\Temp\\ipykernel_227676\\1515422847.py\u001b[0m in \u001b[0;36mupdate_plot\u001b[1;34m(change)\u001b[0m\n\u001b[0;32m     33\u001b[0m     \u001b[0msigma_n\u001b[0m \u001b[1;33m=\u001b[0m \u001b[0msigma\u001b[0m\u001b[1;33m/\u001b[0m\u001b[1;33m(\u001b[0m\u001b[0mnp\u001b[0m\u001b[1;33m.\u001b[0m\u001b[0msqrt\u001b[0m\u001b[1;33m(\u001b[0m\u001b[0msample_size\u001b[0m\u001b[1;33m)\u001b[0m\u001b[1;33m[\u001b[0m\u001b[1;36m0\u001b[0m\u001b[1;33m]\u001b[0m\u001b[1;33m)\u001b[0m \u001b[1;31m#std dev of sampling means\u001b[0m\u001b[1;33m\u001b[0m\u001b[1;33m\u001b[0m\u001b[0m\n\u001b[0;32m     34\u001b[0m     \u001b[1;32mwith\u001b[0m \u001b[0mout\u001b[0m\u001b[1;33m:\u001b[0m\u001b[1;33m\u001b[0m\u001b[1;33m\u001b[0m\u001b[0m\n\u001b[1;32m---> 35\u001b[1;33m         \u001b[0mclear_output\u001b[0m\u001b[1;33m(\u001b[0m\u001b[0mwait\u001b[0m\u001b[1;33m=\u001b[0m\u001b[1;32mTrue\u001b[0m\u001b[1;33m)\u001b[0m\u001b[1;33m\u001b[0m\u001b[1;33m\u001b[0m\u001b[0m\n\u001b[0m\u001b[0;32m     36\u001b[0m         \u001b[0mx\u001b[0m \u001b[1;33m=\u001b[0m \u001b[0mnp\u001b[0m\u001b[1;33m.\u001b[0m\u001b[0mlinspace\u001b[0m\u001b[1;33m(\u001b[0m\u001b[1;33m-\u001b[0m\u001b[1;36m4\u001b[0m\u001b[1;33m*\u001b[0m\u001b[0msigma_n\u001b[0m \u001b[1;33m+\u001b[0m \u001b[0mmu\u001b[0m\u001b[1;33m,\u001b[0m \u001b[1;36m4\u001b[0m\u001b[1;33m*\u001b[0m\u001b[0msigma_n\u001b[0m \u001b[1;33m+\u001b[0m \u001b[0mmu\u001b[0m\u001b[1;33m,\u001b[0m \u001b[1;36m1000\u001b[0m\u001b[1;33m)\u001b[0m \u001b[1;31m#x-axis values\u001b[0m\u001b[1;33m\u001b[0m\u001b[1;33m\u001b[0m\u001b[0m\n\u001b[0;32m     37\u001b[0m         \u001b[0my\u001b[0m \u001b[1;33m=\u001b[0m \u001b[0mnorm\u001b[0m\u001b[1;33m.\u001b[0m\u001b[0mpdf\u001b[0m\u001b[1;33m(\u001b[0m\u001b[0mx\u001b[0m\u001b[1;33m,\u001b[0m \u001b[0mmu\u001b[0m\u001b[1;33m,\u001b[0m \u001b[0msigma_n\u001b[0m\u001b[1;33m)\u001b[0m \u001b[1;31m# (x-values, location, scale) #norm function\u001b[0m\u001b[1;33m\u001b[0m\u001b[1;33m\u001b[0m\u001b[0m\n",
          "\u001b[1;31mNameError\u001b[0m: name 'clear_output' is not defined"
         ]
        }
       ]
      }
     },
     "32ea0b85eef44da889a043315aa42c87": {
      "model_module": "@jupyter-widgets/output",
      "model_module_version": "1.0.0",
      "model_name": "OutputModel",
      "state": {
       "_dom_classes": [],
       "_model_module": "@jupyter-widgets/output",
       "_model_module_version": "1.0.0",
       "_model_name": "OutputModel",
       "_view_count": null,
       "_view_module": "@jupyter-widgets/output",
       "_view_module_version": "1.0.0",
       "_view_name": "OutputView",
       "layout": "IPY_MODEL_0def3e3dc08a4b809e07c8967cbd80ed",
       "msg_id": "",
       "outputs": [
        {
         "data": {
          "text/html": "<style type=\"text/css\">\n</style>\n<table id=\"T_57c89_\" style='display:inline'>\n  <caption>Population of Adult Heights</caption>\n  <thead>\n    <tr>\n      <th class=\"blank level0\" >&nbsp;</th>\n      <th class=\"col_heading level0 col0\" >Height</th>\n    </tr>\n  </thead>\n  <tbody>\n    <tr>\n      <th id=\"T_57c89_level0_row0\" class=\"row_heading level0 row0\" >mean</th>\n      <td id=\"T_57c89_row0_col0\" class=\"data row0 col0\" >66.367560</td>\n    </tr>\n    <tr>\n      <th id=\"T_57c89_level0_row1\" class=\"row_heading level0 row1\" >std</th>\n      <td id=\"T_57c89_row1_col0\" class=\"data row1 col0\" >3.847528</td>\n    </tr>\n  </tbody>\n</table>\n",
          "text/plain": "<pandas.io.formats.style.Styler at 0x20785d25d08>"
         },
         "metadata": {},
         "output_type": "display_data"
        }
       ]
      }
     },
     "34c6883ae2be48298d66951c6405eb19": {
      "model_module": "@jupyter-widgets/controls",
      "model_module_version": "1.5.0",
      "model_name": "FloatSliderModel",
      "state": {
       "_dom_classes": [],
       "_model_module": "@jupyter-widgets/controls",
       "_model_module_version": "1.5.0",
       "_model_name": "FloatSliderModel",
       "_view_count": null,
       "_view_module": "@jupyter-widgets/controls",
       "_view_module_version": "1.5.0",
       "_view_name": "FloatSliderView",
       "continuous_update": true,
       "description": "Sample mean",
       "description_tooltip": null,
       "disabled": false,
       "layout": "IPY_MODEL_21a2a125b8f4406ea9f46f9b9441a13e",
       "max": 68.5,
       "min": 64.5,
       "orientation": "horizontal",
       "readout": true,
       "readout_format": ".2f",
       "step": 0.5,
       "style": "IPY_MODEL_e8c017e1c6b44af689e683967dc568fe",
       "value": 67.0
      }
     },
     "3682e5e10c2e4650bc214f06118bcae4": {
      "model_module": "@jupyter-widgets/base",
      "model_module_version": "1.2.0",
      "model_name": "LayoutModel",
      "state": {
       "_model_module": "@jupyter-widgets/base",
       "_model_module_version": "1.2.0",
       "_model_name": "LayoutModel",
       "_view_count": null,
       "_view_module": "@jupyter-widgets/base",
       "_view_module_version": "1.2.0",
       "_view_name": "LayoutView",
       "align_content": null,
       "align_items": null,
       "align_self": null,
       "border": null,
       "bottom": null,
       "display": null,
       "flex": null,
       "flex_flow": null,
       "grid_area": null,
       "grid_auto_columns": null,
       "grid_auto_flow": null,
       "grid_auto_rows": null,
       "grid_column": null,
       "grid_gap": null,
       "grid_row": null,
       "grid_template_areas": null,
       "grid_template_columns": null,
       "grid_template_rows": null,
       "height": null,
       "justify_content": null,
       "justify_items": null,
       "left": null,
       "margin": null,
       "max_height": null,
       "max_width": null,
       "min_height": null,
       "min_width": null,
       "object_fit": null,
       "object_position": null,
       "order": null,
       "overflow": null,
       "overflow_x": null,
       "overflow_y": null,
       "padding": null,
       "right": null,
       "top": null,
       "visibility": null,
       "width": null
      }
     },
     "378eb38568dd4e659eca008b43c24793": {
      "model_module": "@jupyter-widgets/controls",
      "model_module_version": "1.5.0",
      "model_name": "FloatSliderModel",
      "state": {
       "_dom_classes": [],
       "_model_module": "@jupyter-widgets/controls",
       "_model_module_version": "1.5.0",
       "_model_name": "FloatSliderModel",
       "_view_count": null,
       "_view_module": "@jupyter-widgets/controls",
       "_view_module_version": "1.5.0",
       "_view_name": "FloatSliderView",
       "continuous_update": true,
       "description": "phase",
       "description_tooltip": null,
       "disabled": false,
       "layout": "IPY_MODEL_5f501b39fc1a4a4993669f01033f9fda",
       "max": 10.0,
       "min": 0.0,
       "orientation": "horizontal",
       "readout": true,
       "readout_format": ".2f",
       "step": 0.1,
       "style": "IPY_MODEL_ed88893ea5f749d2a1ca06c71ddf2541",
       "value": 0.0
      }
     },
     "3a366b8eb4ae4e058faa59c5d0ab882e": {
      "model_module": "@jupyter-widgets/output",
      "model_module_version": "1.0.0",
      "model_name": "OutputModel",
      "state": {
       "_dom_classes": [],
       "_model_module": "@jupyter-widgets/output",
       "_model_module_version": "1.0.0",
       "_model_name": "OutputModel",
       "_view_count": null,
       "_view_module": "@jupyter-widgets/output",
       "_view_module_version": "1.0.0",
       "_view_name": "OutputView",
       "layout": "IPY_MODEL_3682e5e10c2e4650bc214f06118bcae4",
       "msg_id": "",
       "outputs": [
        {
         "data": {
          "text/html": "<style type=\"text/css\">\n</style>\n<table id=\"T_94801_\" style='display:inline'>\n  <caption>Sample Heights of 50 Adult Males</caption>\n  <thead>\n    <tr>\n      <th class=\"blank level0\" >&nbsp;</th>\n      <th class=\"col_heading level0 col0\" >Height</th>\n    </tr>\n  </thead>\n  <tbody>\n    <tr>\n      <th id=\"T_94801_level0_row0\" class=\"row_heading level0 row0\" >mean</th>\n      <td id=\"T_94801_row0_col0\" class=\"data row0 col0\" >68.929605</td>\n    </tr>\n    <tr>\n      <th id=\"T_94801_level0_row1\" class=\"row_heading level0 row1\" >std</th>\n      <td id=\"T_94801_row1_col0\" class=\"data row1 col0\" >3.028708</td>\n    </tr>\n  </tbody>\n</table>\n",
          "text/plain": "<pandas.io.formats.style.Styler at 0x20785d25988>"
         },
         "metadata": {},
         "output_type": "display_data"
        }
       ]
      }
     },
     "3bec91bd6cde4b25b592af3be38f790b": {
      "model_module": "@jupyter-widgets/controls",
      "model_module_version": "1.5.0",
      "model_name": "HBoxModel",
      "state": {
       "_dom_classes": [],
       "_model_module": "@jupyter-widgets/controls",
       "_model_module_version": "1.5.0",
       "_model_name": "HBoxModel",
       "_view_count": null,
       "_view_module": "@jupyter-widgets/controls",
       "_view_module_version": "1.5.0",
       "_view_name": "HBoxView",
       "box_style": "",
       "children": [
        "IPY_MODEL_0da82ca95eb64c71a3f27e63ea26562c",
        "IPY_MODEL_06bdb750f4b14b789a044183fba30991"
       ],
       "layout": "IPY_MODEL_cb100f6301dc48379d4a31b0f6cd1029"
      }
     },
     "3c5e9b3a975e489b82ad0aa7f07ca4e3": {
      "model_module": "@jupyter-widgets/base",
      "model_module_version": "1.2.0",
      "model_name": "LayoutModel",
      "state": {
       "_model_module": "@jupyter-widgets/base",
       "_model_module_version": "1.2.0",
       "_model_name": "LayoutModel",
       "_view_count": null,
       "_view_module": "@jupyter-widgets/base",
       "_view_module_version": "1.2.0",
       "_view_name": "LayoutView",
       "align_content": null,
       "align_items": "center",
       "align_self": null,
       "border": null,
       "bottom": null,
       "display": "flex",
       "flex": null,
       "flex_flow": "row",
       "grid_area": null,
       "grid_auto_columns": null,
       "grid_auto_flow": null,
       "grid_auto_rows": null,
       "grid_column": null,
       "grid_gap": null,
       "grid_row": null,
       "grid_template_areas": null,
       "grid_template_columns": null,
       "grid_template_rows": null,
       "height": null,
       "justify_content": "center",
       "justify_items": null,
       "left": null,
       "margin": null,
       "max_height": null,
       "max_width": null,
       "min_height": null,
       "min_width": null,
       "object_fit": null,
       "object_position": null,
       "order": null,
       "overflow": null,
       "overflow_x": null,
       "overflow_y": null,
       "padding": null,
       "right": null,
       "top": null,
       "visibility": null,
       "width": null
      }
     },
     "3d34c517a0fc476fb22de84eec713e9b": {
      "model_module": "@jupyter-widgets/base",
      "model_module_version": "1.2.0",
      "model_name": "LayoutModel",
      "state": {
       "_model_module": "@jupyter-widgets/base",
       "_model_module_version": "1.2.0",
       "_model_name": "LayoutModel",
       "_view_count": null,
       "_view_module": "@jupyter-widgets/base",
       "_view_module_version": "1.2.0",
       "_view_name": "LayoutView",
       "align_content": null,
       "align_items": null,
       "align_self": null,
       "border": null,
       "bottom": null,
       "display": null,
       "flex": null,
       "flex_flow": null,
       "grid_area": null,
       "grid_auto_columns": null,
       "grid_auto_flow": null,
       "grid_auto_rows": null,
       "grid_column": null,
       "grid_gap": null,
       "grid_row": null,
       "grid_template_areas": null,
       "grid_template_columns": null,
       "grid_template_rows": null,
       "height": null,
       "justify_content": null,
       "justify_items": null,
       "left": null,
       "margin": null,
       "max_height": null,
       "max_width": null,
       "min_height": null,
       "min_width": null,
       "object_fit": null,
       "object_position": null,
       "order": null,
       "overflow": null,
       "overflow_x": null,
       "overflow_y": null,
       "padding": null,
       "right": null,
       "top": null,
       "visibility": null,
       "width": null
      }
     },
     "4ff415e09e424411a4be7b647c21b91e": {
      "model_module": "@jupyter-widgets/base",
      "model_module_version": "1.2.0",
      "model_name": "LayoutModel",
      "state": {
       "_model_module": "@jupyter-widgets/base",
       "_model_module_version": "1.2.0",
       "_model_name": "LayoutModel",
       "_view_count": null,
       "_view_module": "@jupyter-widgets/base",
       "_view_module_version": "1.2.0",
       "_view_name": "LayoutView",
       "align_content": null,
       "align_items": null,
       "align_self": null,
       "border": null,
       "bottom": null,
       "display": null,
       "flex": null,
       "flex_flow": null,
       "grid_area": null,
       "grid_auto_columns": null,
       "grid_auto_flow": null,
       "grid_auto_rows": null,
       "grid_column": null,
       "grid_gap": null,
       "grid_row": null,
       "grid_template_areas": null,
       "grid_template_columns": null,
       "grid_template_rows": null,
       "height": null,
       "justify_content": null,
       "justify_items": null,
       "left": null,
       "margin": null,
       "max_height": null,
       "max_width": null,
       "min_height": null,
       "min_width": null,
       "object_fit": null,
       "object_position": null,
       "order": null,
       "overflow": null,
       "overflow_x": null,
       "overflow_y": null,
       "padding": null,
       "right": null,
       "top": null,
       "visibility": null,
       "width": null
      }
     },
     "5ca18c60ef7c46cebbf82dc04a5406bd": {
      "model_module": "@jupyter-widgets/base",
      "model_module_version": "1.2.0",
      "model_name": "LayoutModel",
      "state": {
       "_model_module": "@jupyter-widgets/base",
       "_model_module_version": "1.2.0",
       "_model_name": "LayoutModel",
       "_view_count": null,
       "_view_module": "@jupyter-widgets/base",
       "_view_module_version": "1.2.0",
       "_view_name": "LayoutView",
       "align_content": null,
       "align_items": "center",
       "align_self": null,
       "border": "solid",
       "bottom": null,
       "display": "flex",
       "flex": null,
       "flex_flow": "row",
       "grid_area": null,
       "grid_auto_columns": null,
       "grid_auto_flow": null,
       "grid_auto_rows": null,
       "grid_column": null,
       "grid_gap": null,
       "grid_row": null,
       "grid_template_areas": null,
       "grid_template_columns": null,
       "grid_template_rows": null,
       "height": null,
       "justify_content": "center",
       "justify_items": null,
       "left": null,
       "margin": null,
       "max_height": null,
       "max_width": null,
       "min_height": null,
       "min_width": null,
       "object_fit": null,
       "object_position": null,
       "order": null,
       "overflow": null,
       "overflow_x": null,
       "overflow_y": null,
       "padding": null,
       "right": null,
       "top": null,
       "visibility": null,
       "width": "100%"
      }
     },
     "5ee0e997dd994ce489361b029f611f2f": {
      "model_module": "@jupyter-widgets/base",
      "model_module_version": "1.2.0",
      "model_name": "LayoutModel",
      "state": {
       "_model_module": "@jupyter-widgets/base",
       "_model_module_version": "1.2.0",
       "_model_name": "LayoutModel",
       "_view_count": null,
       "_view_module": "@jupyter-widgets/base",
       "_view_module_version": "1.2.0",
       "_view_name": "LayoutView",
       "align_content": null,
       "align_items": null,
       "align_self": null,
       "border": null,
       "bottom": null,
       "display": null,
       "flex": null,
       "flex_flow": null,
       "grid_area": null,
       "grid_auto_columns": null,
       "grid_auto_flow": null,
       "grid_auto_rows": null,
       "grid_column": null,
       "grid_gap": null,
       "grid_row": null,
       "grid_template_areas": null,
       "grid_template_columns": null,
       "grid_template_rows": null,
       "height": null,
       "justify_content": null,
       "justify_items": null,
       "left": null,
       "margin": null,
       "max_height": null,
       "max_width": null,
       "min_height": null,
       "min_width": null,
       "object_fit": null,
       "object_position": null,
       "order": null,
       "overflow": null,
       "overflow_x": null,
       "overflow_y": null,
       "padding": null,
       "right": null,
       "top": null,
       "visibility": null,
       "width": null
      }
     },
     "5f501b39fc1a4a4993669f01033f9fda": {
      "model_module": "@jupyter-widgets/base",
      "model_module_version": "1.2.0",
      "model_name": "LayoutModel",
      "state": {
       "_model_module": "@jupyter-widgets/base",
       "_model_module_version": "1.2.0",
       "_model_name": "LayoutModel",
       "_view_count": null,
       "_view_module": "@jupyter-widgets/base",
       "_view_module_version": "1.2.0",
       "_view_name": "LayoutView",
       "align_content": null,
       "align_items": null,
       "align_self": null,
       "border": null,
       "bottom": null,
       "display": null,
       "flex": null,
       "flex_flow": null,
       "grid_area": null,
       "grid_auto_columns": null,
       "grid_auto_flow": null,
       "grid_auto_rows": null,
       "grid_column": null,
       "grid_gap": null,
       "grid_row": null,
       "grid_template_areas": null,
       "grid_template_columns": null,
       "grid_template_rows": null,
       "height": null,
       "justify_content": null,
       "justify_items": null,
       "left": null,
       "margin": null,
       "max_height": null,
       "max_width": null,
       "min_height": null,
       "min_width": null,
       "object_fit": null,
       "object_position": null,
       "order": null,
       "overflow": null,
       "overflow_x": null,
       "overflow_y": null,
       "padding": null,
       "right": null,
       "top": null,
       "visibility": null,
       "width": null
      }
     },
     "6040009a65f642e4a4ef659fcf6d3847": {
      "model_module": "@jupyter-widgets/base",
      "model_module_version": "1.2.0",
      "model_name": "LayoutModel",
      "state": {
       "_model_module": "@jupyter-widgets/base",
       "_model_module_version": "1.2.0",
       "_model_name": "LayoutModel",
       "_view_count": null,
       "_view_module": "@jupyter-widgets/base",
       "_view_module_version": "1.2.0",
       "_view_name": "LayoutView",
       "align_content": null,
       "align_items": null,
       "align_self": null,
       "border": null,
       "bottom": null,
       "display": null,
       "flex": null,
       "flex_flow": null,
       "grid_area": null,
       "grid_auto_columns": null,
       "grid_auto_flow": null,
       "grid_auto_rows": null,
       "grid_column": null,
       "grid_gap": null,
       "grid_row": null,
       "grid_template_areas": null,
       "grid_template_columns": null,
       "grid_template_rows": null,
       "height": null,
       "justify_content": null,
       "justify_items": null,
       "left": null,
       "margin": null,
       "max_height": null,
       "max_width": null,
       "min_height": null,
       "min_width": null,
       "object_fit": null,
       "object_position": null,
       "order": null,
       "overflow": null,
       "overflow_x": null,
       "overflow_y": null,
       "padding": null,
       "right": null,
       "top": null,
       "visibility": null,
       "width": null
      }
     },
     "618aa2e82a624052b91f49a79185fbb3": {
      "model_module": "@jupyter-widgets/base",
      "model_module_version": "1.2.0",
      "model_name": "LayoutModel",
      "state": {
       "_model_module": "@jupyter-widgets/base",
       "_model_module_version": "1.2.0",
       "_model_name": "LayoutModel",
       "_view_count": null,
       "_view_module": "@jupyter-widgets/base",
       "_view_module_version": "1.2.0",
       "_view_name": "LayoutView",
       "align_content": null,
       "align_items": "center",
       "align_self": null,
       "border": null,
       "bottom": null,
       "display": "flex",
       "flex": null,
       "flex_flow": null,
       "grid_area": null,
       "grid_auto_columns": null,
       "grid_auto_flow": null,
       "grid_auto_rows": null,
       "grid_column": null,
       "grid_gap": null,
       "grid_row": null,
       "grid_template_areas": null,
       "grid_template_columns": null,
       "grid_template_rows": null,
       "height": null,
       "justify_content": "center",
       "justify_items": null,
       "left": null,
       "margin": null,
       "max_height": null,
       "max_width": null,
       "min_height": null,
       "min_width": null,
       "object_fit": null,
       "object_position": null,
       "order": null,
       "overflow": null,
       "overflow_x": null,
       "overflow_y": null,
       "padding": null,
       "right": null,
       "top": null,
       "visibility": null,
       "width": null
      }
     },
     "6238cc421c604067b504e5310e322264": {
      "model_module": "@jupyter-widgets/controls",
      "model_module_version": "1.5.0",
      "model_name": "FloatSliderModel",
      "state": {
       "_dom_classes": [],
       "_model_module": "@jupyter-widgets/controls",
       "_model_module_version": "1.5.0",
       "_model_name": "FloatSliderModel",
       "_view_count": null,
       "_view_module": "@jupyter-widgets/controls",
       "_view_module_version": "1.5.0",
       "_view_name": "FloatSliderView",
       "continuous_update": true,
       "description": "wavelength",
       "description_tooltip": null,
       "disabled": false,
       "layout": "IPY_MODEL_8ff5e553539a4462bdc2946b7ad41666",
       "max": 20.0,
       "min": 0.1,
       "orientation": "horizontal",
       "readout": true,
       "readout_format": ".2f",
       "step": 0.1,
       "style": "IPY_MODEL_93d33416a0604fddaeab3774ba9bb357",
       "value": 6.283185307179586
      }
     },
     "62621ce4892e437e994fb88d39fe7fc0": {
      "model_module": "@jupyter-widgets/base",
      "model_module_version": "1.2.0",
      "model_name": "LayoutModel",
      "state": {
       "_model_module": "@jupyter-widgets/base",
       "_model_module_version": "1.2.0",
       "_model_name": "LayoutModel",
       "_view_count": null,
       "_view_module": "@jupyter-widgets/base",
       "_view_module_version": "1.2.0",
       "_view_name": "LayoutView",
       "align_content": null,
       "align_items": null,
       "align_self": null,
       "border": null,
       "bottom": null,
       "display": null,
       "flex": null,
       "flex_flow": null,
       "grid_area": null,
       "grid_auto_columns": null,
       "grid_auto_flow": null,
       "grid_auto_rows": null,
       "grid_column": null,
       "grid_gap": null,
       "grid_row": null,
       "grid_template_areas": null,
       "grid_template_columns": null,
       "grid_template_rows": null,
       "height": null,
       "justify_content": null,
       "justify_items": null,
       "left": null,
       "margin": null,
       "max_height": null,
       "max_width": null,
       "min_height": null,
       "min_width": null,
       "object_fit": null,
       "object_position": null,
       "order": null,
       "overflow": null,
       "overflow_x": null,
       "overflow_y": null,
       "padding": null,
       "right": null,
       "top": null,
       "visibility": null,
       "width": null
      }
     },
     "63c95dd2cef24630ae1b7f919d7ecfa1": {
      "model_module": "@jupyter-widgets/controls",
      "model_module_version": "1.5.0",
      "model_name": "VBoxModel",
      "state": {
       "_dom_classes": [
        "widget-interact"
       ],
       "_model_module": "@jupyter-widgets/controls",
       "_model_module_version": "1.5.0",
       "_model_name": "VBoxModel",
       "_view_count": null,
       "_view_module": "@jupyter-widgets/controls",
       "_view_module_version": "1.5.0",
       "_view_name": "VBoxView",
       "box_style": "",
       "children": [
        "IPY_MODEL_222a02a2e06c422eb4ef29e650c570e3",
        "IPY_MODEL_e8cb880665eb4557981145bc55b32955"
       ],
       "layout": "IPY_MODEL_9adef2b3e2db456084617c44f14e46e6"
      }
     },
     "696daed820dd4f89a90bdd16fd04617b": {
      "model_module": "@jupyter-widgets/controls",
      "model_module_version": "1.5.0",
      "model_name": "SliderStyleModel",
      "state": {
       "_model_module": "@jupyter-widgets/controls",
       "_model_module_version": "1.5.0",
       "_model_name": "SliderStyleModel",
       "_view_count": null,
       "_view_module": "@jupyter-widgets/base",
       "_view_module_version": "1.2.0",
       "_view_name": "StyleView",
       "description_width": "",
       "handle_color": null
      }
     },
     "6d6f4a713990411f8d9143318f47b32d": {
      "model_module": "@jupyter-widgets/base",
      "model_module_version": "1.2.0",
      "model_name": "LayoutModel",
      "state": {
       "_model_module": "@jupyter-widgets/base",
       "_model_module_version": "1.2.0",
       "_model_name": "LayoutModel",
       "_view_count": null,
       "_view_module": "@jupyter-widgets/base",
       "_view_module_version": "1.2.0",
       "_view_name": "LayoutView",
       "align_content": null,
       "align_items": null,
       "align_self": null,
       "border": null,
       "bottom": null,
       "display": null,
       "flex": null,
       "flex_flow": null,
       "grid_area": null,
       "grid_auto_columns": null,
       "grid_auto_flow": null,
       "grid_auto_rows": null,
       "grid_column": null,
       "grid_gap": null,
       "grid_row": null,
       "grid_template_areas": null,
       "grid_template_columns": null,
       "grid_template_rows": null,
       "height": null,
       "justify_content": null,
       "justify_items": null,
       "left": null,
       "margin": null,
       "max_height": null,
       "max_width": null,
       "min_height": null,
       "min_width": null,
       "object_fit": null,
       "object_position": null,
       "order": null,
       "overflow": null,
       "overflow_x": null,
       "overflow_y": null,
       "padding": null,
       "right": null,
       "top": null,
       "visibility": null,
       "width": null
      }
     },
     "6d81cc709aea40efa7fecb55f5400641": {
      "model_module": "bqplot",
      "model_module_version": "^0.5.34",
      "model_name": "LinearScaleModel",
      "state": {
       "_model_module": "bqplot",
       "_model_module_version": "^0.5.34",
       "_model_name": "LinearScaleModel",
       "_view_count": null,
       "_view_module": "bqplot",
       "_view_module_version": "^0.5.34",
       "_view_name": "LinearScale",
       "allow_padding": true,
       "max": null,
       "mid_range": 0.8,
       "min": null,
       "min_range": 0.6,
       "reverse": false,
       "stabilized": false
      }
     },
     "7985eb2a400443cab34c5b33562c7c1f": {
      "model_module": "bqplot",
      "model_module_version": "^0.5.34",
      "model_name": "LinearScaleModel",
      "state": {
       "_model_module": "bqplot",
       "_model_module_version": "^0.5.34",
       "_model_name": "LinearScaleModel",
       "_view_count": null,
       "_view_module": "bqplot",
       "_view_module_version": "^0.5.34",
       "_view_name": "LinearScale",
       "allow_padding": false,
       "max": 1.0,
       "mid_range": 0.8,
       "min": 0.0,
       "min_range": 0.6,
       "reverse": false,
       "stabilized": false
      }
     },
     "7e407c7aca4f45d5af781b7a12fe71f2": {
      "model_module": "@jupyter-widgets/output",
      "model_module_version": "1.0.0",
      "model_name": "OutputModel",
      "state": {
       "_dom_classes": [],
       "_model_module": "@jupyter-widgets/output",
       "_model_module_version": "1.0.0",
       "_model_name": "OutputModel",
       "_view_count": null,
       "_view_module": "@jupyter-widgets/output",
       "_view_module_version": "1.0.0",
       "_view_name": "OutputView",
       "layout": "IPY_MODEL_e8c825629b204f4584148e48378adbd9",
       "msg_id": "",
       "outputs": [
        {
         "data": {
          "image/png": "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\n",
          "text/plain": "<Figure size 432x288 with 1 Axes>"
         },
         "metadata": {
          "needs_background": "light"
         },
         "output_type": "display_data"
        }
       ]
      }
     },
     "88d36929cead4396adc40ec4d755d362": {
      "model_module": "@jupyter-widgets/base",
      "model_module_version": "1.2.0",
      "model_name": "LayoutModel",
      "state": {
       "_model_module": "@jupyter-widgets/base",
       "_model_module_version": "1.2.0",
       "_model_name": "LayoutModel",
       "_view_count": null,
       "_view_module": "@jupyter-widgets/base",
       "_view_module_version": "1.2.0",
       "_view_name": "LayoutView",
       "align_content": null,
       "align_items": null,
       "align_self": null,
       "border": null,
       "bottom": null,
       "display": null,
       "flex": null,
       "flex_flow": null,
       "grid_area": null,
       "grid_auto_columns": null,
       "grid_auto_flow": null,
       "grid_auto_rows": null,
       "grid_column": null,
       "grid_gap": null,
       "grid_row": null,
       "grid_template_areas": null,
       "grid_template_columns": null,
       "grid_template_rows": null,
       "height": null,
       "justify_content": null,
       "justify_items": null,
       "left": null,
       "margin": null,
       "max_height": null,
       "max_width": null,
       "min_height": null,
       "min_width": null,
       "object_fit": null,
       "object_position": null,
       "order": null,
       "overflow": null,
       "overflow_x": null,
       "overflow_y": null,
       "padding": null,
       "right": null,
       "top": null,
       "visibility": null,
       "width": null
      }
     },
     "8ef3135ca7044ac5a4f718be4d81039f": {
      "model_module": "@jupyter-widgets/controls",
      "model_module_version": "1.5.0",
      "model_name": "BoxModel",
      "state": {
       "_dom_classes": [],
       "_model_module": "@jupyter-widgets/controls",
       "_model_module_version": "1.5.0",
       "_model_name": "BoxModel",
       "_view_count": null,
       "_view_module": "@jupyter-widgets/controls",
       "_view_module_version": "1.5.0",
       "_view_name": "BoxView",
       "box_style": "",
       "children": [
        "IPY_MODEL_3a366b8eb4ae4e058faa59c5d0ab882e",
        "IPY_MODEL_32ea0b85eef44da889a043315aa42c87",
        "IPY_MODEL_d7ef8c6c1afc4a89bf74c752a5f4454d"
       ],
       "layout": "IPY_MODEL_05b7d2e50fa04d21a2195397412925cd"
      }
     },
     "8ff5e553539a4462bdc2946b7ad41666": {
      "model_module": "@jupyter-widgets/base",
      "model_module_version": "1.2.0",
      "model_name": "LayoutModel",
      "state": {
       "_model_module": "@jupyter-widgets/base",
       "_model_module_version": "1.2.0",
       "_model_name": "LayoutModel",
       "_view_count": null,
       "_view_module": "@jupyter-widgets/base",
       "_view_module_version": "1.2.0",
       "_view_name": "LayoutView",
       "align_content": null,
       "align_items": null,
       "align_self": null,
       "border": null,
       "bottom": null,
       "display": null,
       "flex": null,
       "flex_flow": null,
       "grid_area": null,
       "grid_auto_columns": null,
       "grid_auto_flow": null,
       "grid_auto_rows": null,
       "grid_column": null,
       "grid_gap": null,
       "grid_row": null,
       "grid_template_areas": null,
       "grid_template_columns": null,
       "grid_template_rows": null,
       "height": null,
       "justify_content": null,
       "justify_items": null,
       "left": null,
       "margin": null,
       "max_height": null,
       "max_width": null,
       "min_height": null,
       "min_width": null,
       "object_fit": null,
       "object_position": null,
       "order": null,
       "overflow": null,
       "overflow_x": null,
       "overflow_y": null,
       "padding": null,
       "right": null,
       "top": null,
       "visibility": null,
       "width": null
      }
     },
     "93323e6de875457cac520aa3fd813d91": {
      "model_module": "bqplot",
      "model_module_version": "^0.5.34",
      "model_name": "LinearScaleModel",
      "state": {
       "_model_module": "bqplot",
       "_model_module_version": "^0.5.34",
       "_model_name": "LinearScaleModel",
       "_view_count": null,
       "_view_module": "bqplot",
       "_view_module_version": "^0.5.34",
       "_view_name": "LinearScale",
       "allow_padding": true,
       "max": null,
       "mid_range": 0.8,
       "min": null,
       "min_range": 0.6,
       "reverse": false,
       "stabilized": false
      }
     },
     "93d33416a0604fddaeab3774ba9bb357": {
      "model_module": "@jupyter-widgets/controls",
      "model_module_version": "1.5.0",
      "model_name": "SliderStyleModel",
      "state": {
       "_model_module": "@jupyter-widgets/controls",
       "_model_module_version": "1.5.0",
       "_model_name": "SliderStyleModel",
       "_view_count": null,
       "_view_module": "@jupyter-widgets/base",
       "_view_module_version": "1.2.0",
       "_view_name": "StyleView",
       "description_width": "",
       "handle_color": null
      }
     },
     "9adef2b3e2db456084617c44f14e46e6": {
      "model_module": "@jupyter-widgets/base",
      "model_module_version": "1.2.0",
      "model_name": "LayoutModel",
      "state": {
       "_model_module": "@jupyter-widgets/base",
       "_model_module_version": "1.2.0",
       "_model_name": "LayoutModel",
       "_view_count": null,
       "_view_module": "@jupyter-widgets/base",
       "_view_module_version": "1.2.0",
       "_view_name": "LayoutView",
       "align_content": null,
       "align_items": null,
       "align_self": null,
       "border": null,
       "bottom": null,
       "display": null,
       "flex": null,
       "flex_flow": null,
       "grid_area": null,
       "grid_auto_columns": null,
       "grid_auto_flow": null,
       "grid_auto_rows": null,
       "grid_column": null,
       "grid_gap": null,
       "grid_row": null,
       "grid_template_areas": null,
       "grid_template_columns": null,
       "grid_template_rows": null,
       "height": null,
       "justify_content": null,
       "justify_items": null,
       "left": null,
       "margin": null,
       "max_height": null,
       "max_width": null,
       "min_height": null,
       "min_width": null,
       "object_fit": null,
       "object_position": null,
       "order": null,
       "overflow": null,
       "overflow_x": null,
       "overflow_y": null,
       "padding": null,
       "right": null,
       "top": null,
       "visibility": null,
       "width": null
      }
     },
     "a51d89d4afab40ddbdea42d230f27383": {
      "model_module": "bqplot",
      "model_module_version": "^0.5.34",
      "model_name": "LinearScaleModel",
      "state": {
       "_model_module": "bqplot",
       "_model_module_version": "^0.5.34",
       "_model_name": "LinearScaleModel",
       "_view_count": null,
       "_view_module": "bqplot",
       "_view_module_version": "^0.5.34",
       "_view_name": "LinearScale",
       "allow_padding": false,
       "max": 1.0,
       "mid_range": 0.8,
       "min": 0.0,
       "min_range": 0.6,
       "reverse": false,
       "stabilized": false
      }
     },
     "a5466bad77aa4f50bc7e7d6577376609": {
      "model_module": "@jupyter-widgets/controls",
      "model_module_version": "1.5.0",
      "model_name": "VBoxModel",
      "state": {
       "_dom_classes": [],
       "_model_module": "@jupyter-widgets/controls",
       "_model_module_version": "1.5.0",
       "_model_name": "VBoxModel",
       "_view_count": null,
       "_view_module": "@jupyter-widgets/controls",
       "_view_module_version": "1.5.0",
       "_view_name": "VBoxView",
       "box_style": "",
       "children": [
        "IPY_MODEL_acc5b539f218494eb52f2b74a17bc035",
        "IPY_MODEL_1c214a8b4ac545898f0764aa6d3fa13c"
       ],
       "layout": "IPY_MODEL_618aa2e82a624052b91f49a79185fbb3"
      }
     },
     "a838d3bfc999461c9e5a0a41f7740428": {
      "model_module": "@jupyter-widgets/base",
      "model_module_version": "1.2.0",
      "model_name": "LayoutModel",
      "state": {
       "_model_module": "@jupyter-widgets/base",
       "_model_module_version": "1.2.0",
       "_model_name": "LayoutModel",
       "_view_count": null,
       "_view_module": "@jupyter-widgets/base",
       "_view_module_version": "1.2.0",
       "_view_name": "LayoutView",
       "align_content": null,
       "align_items": null,
       "align_self": null,
       "border": null,
       "bottom": null,
       "display": null,
       "flex": null,
       "flex_flow": null,
       "grid_area": null,
       "grid_auto_columns": null,
       "grid_auto_flow": null,
       "grid_auto_rows": null,
       "grid_column": null,
       "grid_gap": null,
       "grid_row": null,
       "grid_template_areas": null,
       "grid_template_columns": null,
       "grid_template_rows": null,
       "height": null,
       "justify_content": null,
       "justify_items": null,
       "left": null,
       "margin": null,
       "max_height": null,
       "max_width": null,
       "min_height": null,
       "min_width": null,
       "object_fit": null,
       "object_position": null,
       "order": null,
       "overflow": null,
       "overflow_x": null,
       "overflow_y": null,
       "padding": null,
       "right": null,
       "top": null,
       "visibility": null,
       "width": null
      }
     },
     "acc5b539f218494eb52f2b74a17bc035": {
      "model_module": "@jupyter-widgets/controls",
      "model_module_version": "1.5.0",
      "model_name": "BoxModel",
      "state": {
       "_dom_classes": [],
       "_model_module": "@jupyter-widgets/controls",
       "_model_module_version": "1.5.0",
       "_model_name": "BoxModel",
       "_view_count": null,
       "_view_module": "@jupyter-widgets/controls",
       "_view_module_version": "1.5.0",
       "_view_name": "BoxView",
       "box_style": "",
       "children": [
        "IPY_MODEL_34c6883ae2be48298d66951c6405eb19"
       ],
       "layout": "IPY_MODEL_618aa2e82a624052b91f49a79185fbb3"
      }
     },
     "bf90fc64290046d9b581e76a6c9cda27": {
      "model_module": "@jupyter-widgets/base",
      "model_module_version": "1.2.0",
      "model_name": "LayoutModel",
      "state": {
       "_model_module": "@jupyter-widgets/base",
       "_model_module_version": "1.2.0",
       "_model_name": "LayoutModel",
       "_view_count": null,
       "_view_module": "@jupyter-widgets/base",
       "_view_module_version": "1.2.0",
       "_view_name": "LayoutView",
       "align_content": null,
       "align_items": null,
       "align_self": null,
       "border": null,
       "bottom": null,
       "display": null,
       "flex": null,
       "flex_flow": null,
       "grid_area": null,
       "grid_auto_columns": null,
       "grid_auto_flow": null,
       "grid_auto_rows": null,
       "grid_column": null,
       "grid_gap": null,
       "grid_row": null,
       "grid_template_areas": null,
       "grid_template_columns": null,
       "grid_template_rows": null,
       "height": null,
       "justify_content": null,
       "justify_items": null,
       "left": null,
       "margin": null,
       "max_height": null,
       "max_width": null,
       "min_height": null,
       "min_width": null,
       "object_fit": null,
       "object_position": null,
       "order": null,
       "overflow": null,
       "overflow_x": null,
       "overflow_y": null,
       "padding": null,
       "right": null,
       "top": null,
       "visibility": null,
       "width": null
      }
     },
     "c947b05838a643f982b4c586e291b29a": {
      "model_module": "bqplot",
      "model_module_version": "^0.5.34",
      "model_name": "AxisModel",
      "state": {
       "_model_module": "bqplot",
       "_model_module_version": "^0.5.34",
       "_model_name": "AxisModel",
       "_view_count": null,
       "_view_module": "bqplot",
       "_view_module_version": "^0.5.34",
       "_view_name": "Axis",
       "color": null,
       "grid_color": null,
       "grid_lines": "solid",
       "label": "",
       "label_color": null,
       "label_location": "middle",
       "label_offset": null,
       "num_ticks": null,
       "offset": {},
       "orientation": "vertical",
       "scale": "IPY_MODEL_93323e6de875457cac520aa3fd813d91",
       "side": null,
       "tick_format": null,
       "tick_rotate": 0,
       "tick_style": {},
       "tick_values": null,
       "visible": true
      }
     },
     "cb100f6301dc48379d4a31b0f6cd1029": {
      "model_module": "@jupyter-widgets/base",
      "model_module_version": "1.2.0",
      "model_name": "LayoutModel",
      "state": {
       "_model_module": "@jupyter-widgets/base",
       "_model_module_version": "1.2.0",
       "_model_name": "LayoutModel",
       "_view_count": null,
       "_view_module": "@jupyter-widgets/base",
       "_view_module_version": "1.2.0",
       "_view_name": "LayoutView",
       "align_content": null,
       "align_items": null,
       "align_self": null,
       "border": null,
       "bottom": null,
       "display": null,
       "flex": null,
       "flex_flow": null,
       "grid_area": null,
       "grid_auto_columns": null,
       "grid_auto_flow": null,
       "grid_auto_rows": null,
       "grid_column": null,
       "grid_gap": null,
       "grid_row": null,
       "grid_template_areas": null,
       "grid_template_columns": null,
       "grid_template_rows": null,
       "height": null,
       "justify_content": null,
       "justify_items": null,
       "left": null,
       "margin": null,
       "max_height": null,
       "max_width": null,
       "min_height": null,
       "min_width": null,
       "object_fit": null,
       "object_position": null,
       "order": null,
       "overflow": null,
       "overflow_x": null,
       "overflow_y": null,
       "padding": null,
       "right": null,
       "top": null,
       "visibility": null,
       "width": null
      }
     },
     "d3cc17e23cbe4f8f99397e5f69086dda": {
      "model_module": "@jupyter-widgets/controls",
      "model_module_version": "1.5.0",
      "model_name": "HBoxModel",
      "state": {
       "_dom_classes": [],
       "_model_module": "@jupyter-widgets/controls",
       "_model_module_version": "1.5.0",
       "_model_name": "HBoxModel",
       "_view_count": null,
       "_view_module": "@jupyter-widgets/controls",
       "_view_module_version": "1.5.0",
       "_view_name": "HBoxView",
       "box_style": "",
       "children": [
        "IPY_MODEL_fd51804cd35843afaae5405e1ee1309a",
        "IPY_MODEL_63c95dd2cef24630ae1b7f919d7ecfa1"
       ],
       "layout": "IPY_MODEL_3c5e9b3a975e489b82ad0aa7f07ca4e3"
      }
     },
     "d7ef8c6c1afc4a89bf74c752a5f4454d": {
      "model_module": "@jupyter-widgets/output",
      "model_module_version": "1.0.0",
      "model_name": "OutputModel",
      "state": {
       "_dom_classes": [],
       "_model_module": "@jupyter-widgets/output",
       "_model_module_version": "1.0.0",
       "_model_name": "OutputModel",
       "_view_count": null,
       "_view_module": "@jupyter-widgets/output",
       "_view_module_version": "1.0.0",
       "_view_name": "OutputView",
       "layout": "IPY_MODEL_5ee0e997dd994ce489361b029f611f2f",
       "msg_id": "",
       "outputs": [
        {
         "data": {
          "image/png": "iVBORw0KGgoAAAANSUhEUgAAAY4AAAEGCAYAAABy53LJAAAAOXRFWHRTb2Z0d2FyZQBNYXRwbG90bGliIHZlcnNpb24zLjUuMSwgaHR0cHM6Ly9tYXRwbG90bGliLm9yZy/YYfK9AAAACXBIWXMAAAsTAAALEwEAmpwYAAA8t0lEQVR4nO3deZhU1bX4/e+iaehmnsdmnucWGwRRhEQRUcEpAaJRc69Bo2byzX3jvck1YPTG3MdrEuNIjEGjAopgUFFURBRFBbRF5kmGZm7mZqZ7/f7YVVC0PVR116lzump9nqee7qo659Tu4lCr9t7rrC2qijHGGBOtan43wBhjTNVigcMYY0xMLHAYY4yJiQUOY4wxMbHAYYwxJibV/W5APDVp0kTbt2/vdzNMstq+HVq18rsVQWmGSRJLly7NV9WmseyTVIGjffv2LFmyxO9mmGQl4j61rRkmiYjI5lj3saEqY6L1u9/53QIgMM0wKUyS6QLAnJwctR6HMcZET0SWqmpOLPtYj8MYY0xMkmqOoySnTp0iLy+P48eP+90UE0AZGRlkZWWRnp5e/sYTJ7qbzwLSDJPCkn6o6ptvvqFu3bo0btwYEfGpZSaIVJW9e/dy+PBhOnToUP4OIhCA/y8BaYZJEjZUVYLjx49b0DAlEhEaN25svVFjYpT0gQOwoGFKFdO5EZB0poA0w6SwlAgcxsRFQCYWAtIMk8JSL3C0besGieN1a9s2qpedNWsWIsLq1atL3WbYsGHlXsA4ceJEHn74YQCmTJnC9hiuBIvcN1qjRo3iwIEDZW5TWrtzc3OZM2dOTK9njAm+pM+q+patW2H+/Pgdb/jwqDabOnUqF110EdOmTWNinL4yTpkyhd69e9PKw/oTlfngz83NZcmSJYwaNSqOLfJRQNKZAtIMk8JSr8fhg4KCAj7++GP+/ve/M23atDOPHzt2jHHjxtG3b1/Gjh3LsWPHzjxXp06dM7/PmDGDW2+99ZxjzpgxgyVLlnDjjTeSnZ3NsWPHuPfee+nZsyd9+/blV7/6VYltWblyJcOGDaNjx448+uijZx5/4YUXGDhwINnZ2dx+++0UFhYCroxLfn4+AL///e/p3r07l112GePHjz+n9/LKK68wcOBAunbtykcffcTJkye57777mD59OtnZ2UyfPp0FCxaQnZ1NdnY25513HocPH674m+qHSZP8bgEQmGaYFJZ6PQ4fvPbaa4wcOZKuXbvSqFEjvvjiC/r378+TTz5JrVq1WLZsGcuWLaN///5RH/OGG27gscce4+GHHyYnJ4d9+/Yxa9YsVq9ejYiUOry0evVq5s+fz+HDh+nWrRs/+clPWL9+PdOnT+fjjz8mPT2dO++8kxdffJGbb775zH5Llizh1Vdf5csvv+T06dP079+f888//8zzp0+f5vPPP2fOnDlMmjSJ9957j/vvv58lS5bw2GOPAXD11Vfz+OOPM2TIEAoKCsjIyKjYG2qM8ZWnPQ4RGSkia0RkvYjcW8LzY0RkmYjkisgSEbko4rlNIvJ1+Dkv2+m1qVOnMm7cOADGjRvH1KlTAfjwww+56aabAOjbty99+/at8GvUq1ePjIwMbrvtNmbOnEmtWrVK3O7KK6+kZs2aNGnShGbNmrFr1y7mzZvH0qVLGTBgANnZ2cybN4+NGzees9/ChQsZM2YMmZmZ1K1bl6uvvvqc56+77joAzj//fDZt2lTiaw8ZMoR77rmHRx99lAMHDlC9ehX73hKQdKaANMOkMM/+54pIGvA4cBmQBywWkdmqujJis3nAbFVVEekLvAx0j3h+uKrme9XGRNi7dy/vv/8+y5cvR0QoLCxERPjf//1foPR00MjHo7nOoHr16nz++efMmzePadOm8dhjj/H+++9/a7uaNWue+T0tLY3Tp0+jqtxyyy384Q9/KPX45V0oGj5u+Jgluffee7nyyiuZM2cOgwYN4r333qN79+4lbhtIAZlYCEgzTArzsscxEFivqhtV9SQwDRgTuYGqFujZT6TaQNJdDztjxgxuvvlmNm/ezKZNm9i6dSsdOnRg4cKFDB06lBdffBGA5cuXs2zZsjP7NW/enFWrVlFUVMSsWbNKPHbdunXPzBMUFBRw8OBBRo0axZ///Gdyc3OjbuN3v/tdZsyYwe7duwHYt28fmzefW2n5oosu4vXXX+f48eMUFBTw5ptvlnvcyPYBbNiwgT59+vDrX/+anJycMjPMjDHB5eVYQWtga8T9POCC4huJyLXAH4BmwJURTynwjogo8LSqTo5Lq9q0iToTKurjlWHq1Knce++5o3TXX389L730Eo888gg/+tGP6Nu3L9nZ2QwcOPDMNg899BBXXXUVbdq0oXfv3hQUFHzr2Lfeeit33HEHmZmZvPXWW4wZM4bjx4+jqvzpT3+K+k/o2bMnDzzwACNGjKCoqIj09HQef/xx2rVrd2abAQMGMHr0aPr160e7du3Iycmhfv36ZR53+PDhPPTQQ2RnZ/Of//mfLFy4kPnz55OWlkbPnj254oorom5jIAQknSkgzTApzLNaVSLyPeByVb0tdP+HwEBV/Wkp2w8F7lPVS0P3W6nqdhFpBrwL/FRVPyxhvwnABIC2bdueX/yb8qpVq+jRo0cc/7LUVVBQQJ06dTh69ChDhw5l8uTJMU3oB1XU50hAikQFpBkmSQStVlUeEPl1PAso9Wq1UFDoJCJNQve3h37uBmbhhr5K2m+yquaoak7TpjGtfmhiNGHCBLKzs+nfvz/XX399UgQNY0zsvByqWgx0EZEOwDZgHPCDyA1EpDOwITQ53h+oAewVkdpANVU9HPp9BHC/h201UXjppZf8boK/ApLOFJBmmBTmWeBQ1dMicjcwF0gDnlXVFSJyR+j5p4DrgZtF5BRwDBgbCiLNgVmhzKLqwEuq+rZXbTUmKgGZWAhIM0wK8zSRXlXnAHOKPfZUxO9/BP5Ywn4bgX5ets0YY0zFWMkRY6IVgK/6bdq1R0QSfmvTrr3ff7oJkCp26a4xPpo0yffgkbdlM/VHasLnOe4ZbGvamLNSrscR729s0XwTe/DBB+nVq9eZ6zU+++wzT//GaMqzR7r11lupVavWORfr/fznP0dEzhQ4rAwr525Mckm5Hkfels08sih+SfDlfRNbtGgRb7zxBl988QU1a9YkPz+fkydPxu3146Vz587861//4qabbqKoqIj58+fTunVr39oTyHLuAUlnuuQSv1tgUl3K9TgSbceOHTRp0uRMLacmTZqcWT/j/vvvZ8CAAfTu3ZsJEyacqQc1bNgwfvnLXzJ06FB69OjB4sWLue666+jSpQu//e1vAdi0aRPdu3fnlltuoW/fvtxwww0cPXr0W6//zjvvMHjwYPr378/3vve9Eq9ABxg/fjzTp08H4IMPPmDIkCHnFCEsrex6nTp1+M1vfkO/fv0YNGgQu3btKvH4SVHOPQBzHADDhvndApPqLHB4bMSIEWzdupWuXbty5513smDBgjPP3X333SxevJjly5dz7Ngx3njjjTPP1ahRgw8//JA77riDMWPG8Pjjj7N8+XKmTJnC3r17AVizZg0TJkxg2bJl1KtXjyeeeOKc187Pz+eBBx7gvffe44svviAnJ4dHHnmkxHZ26dKFPXv2sH///nOq+YK7sjpcdj03N5e0tLQzNbaOHDnCoEGD+Oqrrxg6dCh/+9vfSjz+6tWrmTt3Lp9//jmTJk3i1KlTZR43LLKc+8yZM781NBUu5/7nP/+ZSZMmUaNGDe6//37Gjh1Lbm4uY8eO5eGHH+bxxx8nNzeXjz76iMzMzPL+2YwxZbDA4bE6deqwdOlSJk+eTNOmTRk7dixTpkwBYP78+VxwwQX06dOH999/nxUrVpzZb/To0QD06dOHXr160bJlS2rWrEnHjh3ZutWVAGvTpg1DhgwB4KabbmLhwoXnvPann37KypUrGTJkCNnZ2Tz33HPfKl4Y6brrrmPatGl89tlnXHzxxWceL6vseo0aNbjqqquAskuqJ0U594D0OD74wO8WmFSXcnMcfkhLS2PYsGEMGzaMPn368NxzzzFu3DjuvPNOlixZQps2bZg4ceI55dPDQ1vVqlU7pxR6tWrVzpQtL16Svfh9VeWyyy47s/5HecaNG0f//v255ZZbqFbt7HeKssqup6enn3ndskqqJ0U59wBkVQEsWGDDVcZf1uPw2Jo1a1i3bt2Z+7m5ubRr1+5MkGjSpAkFBQXMmDEj5mNv2bKFRYsWAWfXNI80aNAgPv74Y9avXw/A0aNHWbt2banHa9u2LQ8++CB33nnnOY9HU3a9IqycuzFVU8r1OLLatotrTnpW23ZlPl9QUMBPf/rTM0MknTt3ZvLkyTRo0IAf//jH9OnTh/bt2zNgwICYX7tHjx4899xz3H777XTp0oWf/OQn5zzftGlTpkyZwvjx4zlx4gQADzzwAF27di31mLfffvu3Houm7HpFVLly7pZVZQzgYVl1P+Tk5GjxydNkLau+adMmrrrqKpYvX+53UzzndTn3qnSOiEhc08mjdc9gKXfY0FRNFSmrnnI9DlP1TJgwgZUrV3L8+HFuueUWK+dujM8scFRR7du3T4neBgSonHtAlt774AObHDf+SonJcetim9LEdG5MmuRdQ2IQcSmQMb5I+sCRkZHB3r17LXiYb1FV9u7dS0ZGht9NiVmRnc7GR0k/VJWVlUVeXh579uzxuykmgDIyMsjKyopuY5+zqrYdgobXPUqji+DRz6FGNciqD/1bQFY9X5tmUkzSZ1UZkwxmrITfzoejx0/QtVlNGmXC0VOwYb/72bspDGsP1T0aQ7CsquRlWVXGJKEnFsMfP4FBWfDqj7vyyzlnL5K8pB0syoOlO+DACRjTFdLTfGysSQlJP8dhTNz4kFE1dbkLGmO6wQvXQOH+LefUqqpeDS5uC5d3dENZb28A6xgYr1ngMCZaCc6qWrkH7vvA9SoeGXG2J1FSVlWPpi6AbNgPS3YktJkmBXkaOERkpIisEZH1InJvCc+PEZFlIpIrIktE5KJo9zUmmR09BXe/BQ0y4E8jopu7OK8FdG0En2x1vQ9jvOJZ4BCRNOBx4AqgJzBeRHoW22we0E9Vs4F/A56JYV9jEiuBWVUPL4KN+13QaFzr3OdKq1UlApd2hLo14b1voLDI+3aa1ORlj2MgsF5VN6rqSWAaMCZyA1Ut0LOpGrUBjXZfYxIuQXMc6/bBc1/BuN5wUdtvP1/WVeM10uA77WH/cTdhbowXvAwcrYGtEffzQo+dQ0SuFZHVwJu4XkfU+4b2nxAa5lpi12qYqk4Vfv8h1KoO/zG4Ysdo3wC6NILPtsGhE3FtnjGAt4GjpNrl38r3UNVZqtoduAb4fSz7hvafrKo5qprTtGnTirbVmPIloMfx4RZYsBl+fsG3h6jColkBcGiop/LZtrg1zZgzvAwceUCbiPtZwPbSNlbVD4FOItIk1n2NSQiPs6pU4c+fQas6cHO/0reLplZV3ZrQt7nLzNp/LH5tNAa8DRyLgS4i0kFEagDjgNmRG4hIZwmtOyoi/YEawN5o9jUm2Xy8Fb7YAXcOcHMVlTWgFaRVg0XW6zBx5tmV46p6WkTuBuYCacCzqrpCRO4IPf8UcD1ws4icAo4BY0OT5SXu61VbjYmKx1lVf/0cmteG75WTPxjtCoC10iG7ubuuY3AWNKx6tRxNQFmtKmMCIHcnjJkO9w2Ffz+v9O1iXQHwyCl49kvo1RS+06Hi7bNaVcmrIrWq7MpxYwLgH7lQtwaM7RXf49ZOhx5NYMUed1GhMfFggcOYaHmUVbXrCLy5zg1R1alR/vbRZFVF6t8SChWW7apQ84z5FgscxkTLo6yql76G00VwSxmZVJFiXQGwUaa7tmPZbrua3MSHBQ5jfHSqEF782q2l0b6Bd6/Tr/nZ9TuMqSwLHMZEy4OsqvmbYM9RuKlP9PtEm1UVqV19qFfThqtMfFjgMCZaHsxxTF8BzWq7Hke0yqpVVZpq4lYJzDsM++yCQFNJFjiM8cmuAnh/E9zQw7slXyP1buYCyNe7vX8tk9wscBgTrTj3OGasgiKF78e4YECsWVVhtdKhYwNYnW+T5KZyLHAYE604ZlWpwqurXFmQDg1j2zfWrKpIPZvCsdOw+WDFj2GMBQ5jfLBij8twurZ7Yl+3XX3IrO6KHxpTURY4jIlWHLOqXlsD6dVgVOfY961IVlVYWjXo3gQ2HoBjdiW5qSALHMZEK05zHIVFMHsNXNIOGmbGvn9Fsqoi9Wji5lbW7q3ccUzqssBhTIJ9vt2VGRnTzZ/Xb1YbmtSClfn+vL6p+ixwGBOtOPU4/rXGZThd1rFi+1c0qypSzyYueNk1HaYiLHAYE604ZFWdOA1z1sHlnSAzvWLHqExWVVi3xm595jU2XGUqwAKHMQn04RY4eMK/Yaqw2jUgq54LHLbMhomVBQ5johWHrKq31kP9mnBRm4ofozJZVZG6NoYDx12tLGNiYYHDmGhVco7jdBG8txG+2wHSK7GmeGWzqsI6N3QlSGy4ysTKAocxCfLZNjdMdXknv1viZKZD23ouLdeGq0wsLHAYE61K9jjmboCM6u76jcqIR1ZVWNfGcPgk7CyI3zFN8vM0cIjISBFZIyLrReTeEp6/UUSWhW6fiEi/iOc2icjXIpIrIku8bKcxUalEVpUqvLMBhrateDZVWDyyqsI6NYQ0gbX74ndMk/w8CxwikgY8DlwB9ATGi0jxOqDfAJeoal/g98DkYs8PV9VsVc3xqp3GJMLXu2FHQXCGqcJqVncrD67d664mNyYaXvY4BgLrVXWjqp4EpgFjIjdQ1U9UNbyY5adAloftMaZyKpFV9fYG983+ux0q34x4ZVWFdW0MR07B9sPxPa5JXl4GjtbA1oj7eaHHSvPvwFsR9xV4R0SWisiE0nYSkQkiskREluzZYyU/jYcqMcfxzgYY2LpitamKi1dWVVjHBm4hKatdZaLlZeCQEh4rsTMsIsNxgePXEQ8PUdX+uKGuu0RkaEn7qupkVc1R1ZymTZtWts3GxN3G/bBuX/CGqcLS06BDA9dGG64y0fAycOQBkZc5ZQHbi28kIn2BZ4AxqnrmO4+qbg/93A3Mwg19GeOfCvY43tngfo6oYG2q4uKZVRXWtbFb4Gnbofgf2yQfLwPHYqCLiHQQkRrAOGB25AYi0haYCfxQVddGPF5bROqGfwdGAMs9bKsx5atgVtXbG6BPM2hdLz7NiGdWVVj7+qHhKsuuMlHwLHCo6mngbmAusAp4WVVXiMgdInJHaLP7gMbAE8XSbpsDC0XkK+Bz4E1VfdurthrjlV0F8OVOGBHQYaqw8HDVehuuMlGo7uXBVXUOMKfYY09F/H4bcFsJ+20E+hV/3BhfRWRVtWnXnrwtm8vdpc6Ft9Po+0/xqzG9+PnOlXFpRryzqsK6NnbzHNsOQZv63ryGSQ6eBg5jkkrEHEfels08sqj8r+YzV8OhE/DzmSuQktJFYnTPYIl7VlVY5HCVBQ5TFis5YoxHjp+GvEPu6ux4BA2v2XCViZYFDmOiFWNW1aYD7gO4U8P4NsOLrKowy64y0bDAYUy0Ysyq2rDfLRHbsk58m+FFVlWYZVeZaFjgMMYDp4tcj6OqDFOF2XCViYYFDmOiFUOtqi0H4VRR/IepwLusqjAbrjLlscBhTLRimOPYsB9qpEGbOF30F8mrrKowG64y5bHAYUycFamrT9WhAaRVwf9hNlxlylMFT2tjfBJlj2P7YTfU48UwFXibVRVmw1WmLBY4jIlWlFlVG/a7tTfaN/CmGV5mVYXZcJUpiwUOY+JI1QWOtvXdHEdVZcNVpiwWOIyJVhRZVXuOuhIjXg1TgfdZVWFdG9lwlSlZVIFDRF4VkStFxAKNSV1RzHFs2O9WMOvoYeDwOqsqrH0DG64yJYs2EDwJ/ABYJyIPiUh3D9tkTJW1YT+0quuuGK/qwsNVG/YB1arwuJuJu6gCh6q+p6o3Av2BTcC7IvKJiPxIRJLgv4gxUSinx3HwOOQf9XaYChKTVRXWtREcPQ01O5W4crNJUVEPPYlIY+BW3PoZXwJ/wQWSdz1pmTFBU05W1Yb97qfXgSMRWVVh4eGqWtnfS9yLmsCLaj0OEZkJdAf+CVytqjtCT02PWLXPmJS2fj80qQX1M/xuSfyEh6tO9L2O00UuiBgT7WnwjKr2VNU/hIOGiNQEUNUcz1pnTJCUkVV15JS78M/r3gYkLqsqrGsjSKvbnM+2JfZ1TXBFGzgeKOGxRfFsiDGBV8Ycx8bQMFXnBASORGVVhbVvAEUnjjBnXWJf1wRXmYFDRFqIyPlApoicJyL9Q7dhQK3yDi4iI0VkjYisF5F7S3j+RhFZFrp9IiL9ot3XmCBZvw/q13RDVckmPQ2OrXyDt9dDYZHfrTFBUF6P43LgYSALeAT4v9DtHuC/ytpRRNKAx4ErgJ7AeBHpWWyzb4BLVLUv8Htgcgz7GpNYpfQ4jp+GrYegc6PErL2RyKyqsKO5r5B/DBuuMkA5gUNVn1PV4cCtqjo84jZaVWeWc+yBwHpV3aiqJ4FpwJhix/9EVUOdfD7FBaio9jUm4UrJqvpmvyvL0blRYpqRyKyqsOMr55BZHd604SpD+UNVN4V+bS8i9xS/lXPs1sDWiPt5ocdK8+/AW7HuKyITRGSJiCzZs2dPOU0yJv7W74c66dCitt8t8Y6eOsZ3O2DDVQYof6gq/F+hDlC3hFtZSuq0l1guTUSG4wLHr2PdV1Unq2qOquY0bdq0nCYZUwklZFWdLHRLxCZqmAoSn1UVNqoLNlxlgHKu41DVp0M/o6snfa48oE3E/Sxge/GNRKQv8AxwharujWVfYxKqhDmOzQegUKFTgoapIPFZVWHfac+Z4aoL25S7uUli0RY5/F8RqSci6SIyT0TyI4axSrMY6CIiHUSkBjAOmF3suG2BmcAPVXVtLPsaEwTr9rsP09bl9b+TQGY6NlxlgOiv4xihqoeAq3C9ga7Af5S1g6qeBu4G5gKrgJdVdYWI3CEid4Q2uw9oDDwhIrnhq9BL2ze2P82YOCvW4zhd5CbGOzWEagkapgJ/sqrCbLjKQPSBI1zIcBQwVVWjKrSsqnNUtauqdlLVB0OPPaWqT4V+v01VG6pqduiWU9a+xviqWFbVloNwqihx2VRhfmRVhYWHq95YW+6mJolFGzheF5HVQA4wT0SaAse9a5Yxwbd+v1vlr009v1uSOJnpMKITvLEOTpz2uzXGL9GWVb8XGAzkqOop4Ah2XYVJNZFZVWnpbNwPHRtAWoIL//mVVRV2fQ84eALe3+RvO4x/oqqOG9IDdz1H5D7Px7k9xgRXxBxHRtdLOX4aujVOfDP8yqoKG9IGmtWGmavgis7+tsX4I9qy6v8EOgG5QGHoYcUCh0lRtfuPp2YatK3vd0sSr3o1uKYbPJsL+45Bo0y/W2QSLdpOdg4wRFXvVNWfhm4/87JhxgROqMdx/DRk9rmGLo0SP0wF/mZVhV3fw2WV/WuN3y0xfoj2tF8OtPCyIcYEXiir6v1voFpGXbr6MEwF/mZVhXVvAj2buuEqk3qiDRxNgJUiMldEZodvXjbMmKB6fS0UHtpJVgplU5Xkhh6wbDes3Vv+tia5RDs5PtHLRhhTJfzudxSchHnfuDLj1S77qS/N8DurKmx0V3jwI5i1Gn49xO/WmESKNh13AbAJSA/9vhj4wsN2GRM8Eyfy7kY4UQhHvpzmWzP8zqoKa1obLmnnAoeVIEkt0daq+jEwA3g69FBr4DWP2mRMYM1aDa3qwMlNtnIyuEnyHQXwydbytzXJI9o5jruAIcAhAFVdBzTzqlHGBNGuSf/HR1vg2h6AlljlPyGCkFUVdmlHaJgBU62SXEqJNnCcCK3EB0DoIkD//ucY44NZC3ZSpO5btp+CkFUVllHdvR9zN8CeI363xiRKtIFjgYj8F5ApIpcBrwCve9csY4JFFV4deAvntXDVcM1Z43q7azpetdTclBFt4LgX2AN8DdwOzAF+61WjjAma5bthbcvefK+n3y0JTlZVWJdGMLAVTF3u6wieSaBos6qKcJPhd6rqDar6N1U7RUzqeGUV1EyDq7r63ZLgZFVFGt8HNh2ERXl+t8QkQpmBQ5yJIpIPrAbWiMgeEbkvMc0zxn8nC2H2GrisI9Sv6XdrgmlUZ/feTF3ud0tMIpTX4/gFLptqgKo2VtVGwAXAEBH5pdeNMyYI3tsI+4/D9V+86HdTgGBlVYWFJ8nfWg+7bZI86ZUXOG4GxqvqN+EHVHUjcFPoOWOS3gtfuzXFL7kvGKe8L1lV1dIQkTJvD9zQhVNF0OX635W7bbS3Nu3a+/DHmvKUV3IkXVXziz+oqntEJL2kHYxJJhv3w8db4VeDIU1T+PLookIeWVT+tOZra2D36En8932T4lI5+J7BCVzM3UStvH/akxV8zpik8MLXbv2Jsb04dwVAHwUtqypSdnM4egrW7fO7JcZL5QWOfiJyqITbYaBPeQcXkZEiskZE1ovIvSU8311EFonICRH5VbHnNonI1yKSKyJLYvuzjKm846dhxkq4vJNb8S5yBUA/BTGrKqxdfXcl+Zc7LTU3mZU5VKWqaRU9sIikAY8DlwF5wGIRma2qKyM22wf8DLimlMMML2mozJhEeGOtW1v7pnK/IpkwEdfrmL8ZdhZAy7p+t8h4wcv1ywYC61V1Y6hcyTRgTOQGqrpbVRcDpzxshzEV8sLX7irxwVmhBwLS4whiVlWkHk2hRhp8sdPvlhiveBk4WgORNTPzQo9FS4F3RGSpiEwobSMRmSAiS0RkyZ49eyrYVGPOtXSHG275YV/3LRo4swKg34JUq6okNdKgTzNYvw8OHPe7NcYLXgaOktIhYhn1HKKq/YErgLtEZGhJG6nqZFXNUdWcpk2bVqSdxnzL00vdBW3fD0CJkaqofwuoJi4Am+TjZeDIA9pE3M8Ctke7s6puD/3cDczCDX0Z47mN++GdDa63UbtGxBOWVRW12jXckNXKPXDE8i+TjpeBYzHQRUQ6iEgNYBwQ1TrlIlJbROqGfwdGAFbMwCTE37+E9DS4pV+xJwIyxxHkrKpIOS2hSN2Qn0ku0a45HjNVPS0idwNzgTTgWVVdISJ3hJ5/SkRaAEuAekCRiPwC6Ak0AWaJG1yuDrykqm971VZjwvKPwisr4bruoRRcU2ENMqBzI1i2Gwa0gpqefdqYRPP0n1JV5+BKsEc+9lTE7ztxQ1jFHQKKf98zxnPPfeXWFP9x/xKenDgxEL2ODz6oOr2OAa3cxYC5u+CCWFJjTKB5OVRlTJVy4Dj8I9dd8Ne5UQkbWFZVzJrVho4N3ST58dN+t8bEiwUOY0ImL4WCk3DPIL9bklwGZ7nS9F9YhlXSsMBhDG5u49lcuLordG9SykaWVVUhTWu5VQK/3OnqWJmqzwKHMcATS9zcxi/L6m0EYH4Dqs78RqTBWW5dcruuIzlY4DApb2cBvLDMLUTUsaHfrUlOjTJdT+6rXXD4hN+tMZVlgcOkvD9+7Eoa/Ky8S0wD0uMIeq2q0gzKchVzP7F1yas8CxwmpS3ZDjNXw4/Pg7b1y9nYsqoqpX5NOK8FrMqHXQV+t8ZUhgUOk7IKi2DiAmhRB+4a4HdrUsOAVpBZHT7cYut1VGUWOEzKenklfL0b/uuiYjWpSmNZVZVWs7qbKN92GDbs97s1pqIscJiUtO8Y/O8n7hvw6K5R7hSQOY6qmFUVqXczaJzpeh2nCv1ujakICxwmJd33gcvueWB4xHobJiGqCQxvD4dOwOdR18s2QWKBw6ScOevg9bXwswvKuNivJAHpcVTVrKpIWfWgRxN3Xcfeo363xsTKAodJKXuPwm/nuxXqfnJ+jDtbVlVcXdwW0qvB+5tsoryqscBhUoYq/Nf7cPgk/N9lbs0N459a6S54bDsMK2zV5yrFAodJGf/Ihbc3wK8GQ7dYhqjCLKsq7no1hdZ13US5XVFedVjgMCnhix3w4EIY0REmlLTWRjQCMsdR1bOqIom4fxNVePcbG7KqKixwmKS37xjcNQda1oGHR1gWVdDUz4CL2sKWg7DchqyqBAscJqmdOA13vAn5x+DJUa7sRYUFpMeRDFlVxfVtBm3qwYeb3YJaJtgscJikpQq/ngefbYOHL4M+zSt5QMuq8owIXNbRXePx1npXDsYEl6eBQ0RGisgaEVkvIveW8Hx3EVkkIidE5Fex7GtMef70Kcxa7SbDx3TzuzWmPPVquuCx6wgs3Op3a0xZPAscIpIGPA5cAfQExotIz2Kb7QN+BjxcgX2NKdVzX8FfPofv94S741XA0LKqPNe5EWQ3d6sFbrRaVoHlZY9jILBeVTeq6klgGjAmcgNV3a2qi4HiC0qWu68xpZm63JUUGdER/uc7cZwMD8gcRzJlVZXkorZuudl3NkJagyy/m2NK4GXgaA1EdjjzQo95va9JYTNXw3/Og0vawWNX2EV+VVH1ajCqi5vnaHLry5w47XeLTHHVPTx2Sd/zos3SjnpfEZkATABo27ZtlIc3yaRNu/bkbdlM7UG30ej7T3Ni/Qe88B9X8s9TVTw958QJ2L4ddu2C/fvg4CEADv7pWeo3SYeMmtCgITRqBK1bQ7NmUC058l0aZrge45tFg/nvD+CP37U06iDxMnDkAW0i7mcB0dbCjHpfVZ0MTAbIycmxy4dSUN6Wzdw4U/loC7SvD1f+4Duk//BY/F9o0kT43UQA7hnswaeYKuzcCatXw9o1kL8XGjeGhg2hTh1o4dLCFh3qwcgBhXDyJBQUwJrVsHAhHD0KHTpAr17QrRvUiGaRkeDq0hgOPvEA0/ktvZrCLf38bpEJ8zJwLAa6iEgHYBswDvhBAvY1KaRIof5Vf+CjLdClEYzsBGlV7Uv30aPw5ZfuduoktG0H/bJL7UHspKX7KlXc8eOQtxUWL4Y5b0KfPnDBIBd8qqiDb93H9bf/lkkLoGtjtwiU8Z9ngUNVT4vI3cBcIA14VlVXiMgdoeefEpEWwBKgHlAkIr8AeqrqoZL29aqtpmo6fhrueQfqX3ovfZq5NR6qeTmcccmw+B4vPx8+XgirVkHbtjBggAsW5YzJZJf2zTsjAzp3cbcjR2DdWnjmGejUyc2oN6lIgS6fqfLny+Gal+Enb8LscVGsDW8852WPA1WdA8wp9thTEb/vpOTvTiXua0xY/lG47XXI3Qn7X/v/+M7//J/3Y+DxSmfaswfmvw+bNkG37nDNte5DP0rZ2VFsVLs2ZJ8HPXu5oay//x369YVhw2N6rSCoWxOeuQrGTIdbXoOZ34eGmX63KrVVtU69MazaA9dMh1X58NSVcPiDR6rGxOnBgzBrJvzjWahVG669Dvr18/aDvEYN6NMXRo+GAwfgsb/CihVVrppgh4bwzNWuBPu/v+56m8Y/FjhMlTJrtRu2OFkI06+HkZ0T+OIVLRJ18iTMew+eetINQ11zLfTuDenpFTpcbm4FdsrMhEGDYegl8N57MH26m1upQga2hkdGuFUDfzHXypL4yQKHqRJOFcLEBe4Do19zeHM8ZLdIcCMWfBDb9qqwbBn89a8uW+qqq93wUSWznXK/qsTOzZrBVVdBenV48knYuLFSbUm0q7rCby929awe/Mjv1qQuT+c4jImHXUdcWfTF2+Hfz4P/HFIFLuzbtQvefAOOHYOLL3Yf2EGRlgbn50DLlvDqq25S/pJLqsyFEred54as/p4LrerCbRVdX8VUmAUOE2iLt8Gdb7nV4f46Ekb7Wawwmqyqkydh/nz4Ktel1HbpEveL8krNqopVq9Zw5ZXw0Ycujff6G9yQVsCJwH9fDDsOw+8/cut5fM8q2SWUDVWZQFKFp5fC2FehVnV4bazPQQPKzqpSdRfuPfYY5O+Bq0e7i/A8uJI7qqyqaNWqBZeNgBo14Zm/wd69cTy4d9KqwaMj4aI28P+/54auTOJY4DBx06Zde0Sk0rdqtRrQ7Mev8T8L4fCXM/joJ/Xp0bT07X134ABMfQnmvg0XXghDLqoS39zPqFYNBg6E7t1d2u433/jdorOqpZX6756RLkwdX4dj3yzi9n+dJLP7iLicfyJCm3bt/f7LA82Gqkzc5G3ZzCOLKpfmufsIvLEOCk7CxW0he+ANyO03lLmPJ+U/SvLBB+f2OgoLYdEi+Phj6NHDXaWd5v3kS25unHsdYV26Qt168MorMGKERy8So6LCcs+p46dhxkpIv+sdruvu5j0qK2HnVBVlPQ4TCKqwbBdMX+HKiNzQA85rEbD52uJZVU8+CWvWwKhR0LdvQoIGVDKrqjwtWrig8f77bqnBKnC9R0Z1uLY71EmH19bAniN+tyj5WeAwvjtZCHM3wPubIKse3Ng7Pt8aPXHoEMx4xf3etw985ztQN6iNraAGDeCKK+Drr11mWFHwL5ioXQOu6wE10ty1Pvs8qHFpzrLAYXy17xhMWwGr97oCdtd0g8yKXRfnrVOnoH0H18tIC43wtm3nS5cobllVZcnMdD2PHTvh5ZcT8IKVV68mXNfd/f7qKjhQxavqB5kFDuObjfth2nI4dsr9h7+gdcCGpuDsRXyP/RVQNyx13nm+NilhUw81arge1ckT7v6JEwl64YprlOl6HoXqgsfB4De5SrLAYRJOFT7bBrPXQoNM+EHvAFY8VYX16+Gpp9xaFxcOcddxJNuwVHnS0uCii93vU/5RJcqUNKnlvoicLHTB47AFj7izwGES6mQhvLkOFuVB98bw/Z6u+mlgqLoyHM/+3Y3v9+zhxvubN69gkaj4S3gzwteiNGvm3pdDhxLcgNg1q+0mzI+fgldXw5GTfrcouVjgMAlz+AS8vBI27Heptpd3cutLB0L4Ar5nnoHZs91KelePhnbtz46ffZXrZwvP8DSrqizn9XfzPM/+Hfbt86kR0WtRB67p7oLGq6vg6Cm/W5Q87DoOkxC7j8C/1sCpIjcB3q6B3y0KOXHCfYX/7FM36d27F7RpmzRrd8dd795u7uMfz8JNP3Q9sQBrVRfGdHNpujNXwfU9App8UcVY4DCe23TADU/VrO6GpprU8rlBqrBtG3yxFFauhJat3MV75a2+1y87YU0sS0KyqsrStasrCf/8czD+B5AV7PVcs+rB6K7ui8vM1S54ZNgnX6XY22c8tXw3zPsGGtdyPY06lasoXnGqsHu3CxTLlgEKHTvC6DGuXlM0gnAlNQFpRocOLni89BLccIN7LwOsbX1Xkv31te46j+u6uy8ypmLsrTOeCGdOfboN2tWHK7u4i7MS6uRJ2LIF1q2DtWuh8LRb23vIEGjcOIC5v1VMVpYrxz7jFbfWSM9gl6jt0ACu7AxvrndDV9d29+GcTBIWOEzcqcKHW+DLndCjCVzawVUz9fxFCwrcEFTeVti0GXbvcgGiZSu46CJo1KhywcKzIlGxCUgznObN4dLL4M03XapuTo7fLSpTp0YwspOrpjt7jZv/CPzaLgHkaeAQkZHAX4A04BlVfajY8xJ6fhRwFLhVVb8IPbcJOAwUAqdVNdhnpAFcnan3v4HleyC7OVwS74urwwFi3z7Iz4c9e9zjDz8MRYXQpIm79ezpvg1XcHnWEn2VG4hP7NyvAtGMsxo1gssvd0vSHjkCQ4cGujfXtbE7T9/e4IauRncLUHZfFeFZ4BCRNOBx4DIgD1gsIrNVdWXEZlcAXUK3C4AnQz/DhqtqvldtNHFWrTpzN8CavTCgFVyYFePnR2GhCwoFBXD4sPt56BAcOggHD8LBQ+5+zRquimu9elAvdEHeFVdA7dqB/sBKavXquX+DefPcv92oUYHOTOvexF1d/u5GV435qi4WPGLhZY9jILBeVTcCiMg0YAwQGTjGAM+rqgKfikgDEWmpqjs8bJfxwPHT0ORHM1izF4a0cYHjDFX3TfTgwVAgOASHQz8PHYYjBVBwxJW2yMyEzFpQKxMyMt39WrWhaTMXGGrXLrkXUaeO93+kZVWVLVzfasECmD4NbvhefHt8cdarKRQWueKac9a5eTjPh1SThJeBozWwNeJ+Huf2JkrbpjWwA1DgHRFR4GlVnVzSi4jIBGACQNu2bePTchOTo6fgtteVWn3GMLxOPv3yNsJX+bB3H+zf73oM1atDnbpQu5YLDJmZUK8+NG8RCg61oGbNYPcYAjI+FJBmlCxc3+rTRfCPf8CNN7pgH1B9m7vvNfM3w5z1MKqzBY9oeBk4SvoEKF7cv6xthqjqdhFpBrwrIqtV9cNvbewCymSAnJyc4C8ekAxOnYIVK+CLL2DpUnT5Gk71v5+9Hz9Nv94XuoBQt67LYOrVy/UGAvzN08RZWpqr7bXsK/jbZPjBje4amYDq1wKKgAWb3bzHFZ39blHweRk48oA2EfezgO3RbqOq4Z+7RWQWbujrW4HDJEB+vlvl7qOP3M9ly1w2Tdeu0LEjtUdfwfQOu0j78/NwzyS/W+udgKQzBaQZZRNxQ3t168GUKXDNNe58CajzWpzNBpT1QDVLtSqLl4FjMdBFRDoA24BxwA+KbTMbuDs0/3EBcFBVd4hIbaCaqh4O/T4CuN/DtppI+/a5ZVLfew/mz4e8POjTxy2PesMN8JvffGtOISV695ZVFbuOHV3vc/ZsuGCgq7Qb0OHI/i1dttXCrVDnwjv8bk6geRY4VPW0iNwNzMWl4z6rqitE5I7Q808Bc3CpuOtx6bg/Cu3eHJjlsnWpDrykqm971daUV1gIixe7XPw5c9zFcn37utsvfgGdOydsWVSThJo2dRlXCxbAtu1w7bVuPiuAclpBgwx44pOngcf8bk5geXodh6rOwQWHyMeeivhdgbtK2G8jENTckeRw6BDMnQuvvQZvv+0ulMvJcZOZ4UJ25lyWVVVxtWu7az2WLIann4axYwNbILFzI6DotN/NCDS7cjyV7NoF//oXzJgBixa54acLLoAnngjsf+JACcj4UECaEbu0NFdMcuMGeG4KDBsOAwYEdujKlM4CR7LbsQNefRWmT4evvnKB4sIL3RBUtMX9jImnjp2gcROXbLFhvSs0GeCUXfNtKTGnmXL27HFLnl58MXTvDm+8ASNHup7Gb34Dw4db0KiIVF0B0Av167t5j5oZrse7cmX5+5jAsB5Hsjh0CGbNghdegM8+g0GD3Jjyf/+3zVfEi2VVxVdaGvTv76rsvvOOS/O+8srUW9e9CrLAUZWdPAlvvQXPPw/vvus+TYYNg3vucVdjG1MVNGsGV18NXy+DJ5+AoZfAwIGBrnWV6ixwVDWq8MknLli88gq0b++CxQsvuEJzxjuWVeWdtDTIPs+tab54MSxd6oZXTSBZ4Kgq1q1zweL5513dp+98x40Nt2jhd8tSR0DGhwLSDG80aACXXgpbt8Drr7vHtm2D1q19bZY5lwWOIMvPd9lQU6bApk1uUvs3v4EuXSyF0SQvEWjbDrLawPRfwrSp0KKlW18l4OubpwoLHEFz7JjLgpoyxaUrDhrkynzk5NjV234LSJGogDTDe+E5jmuuhXVr4eXp0LChK6DYpYvNgfjIAkcQFBW5cgzPP+8yo7p1c72Lu+6ytNkgsawqf6SlQfce0LWb63m/P8+Vxsk538072dxewlng8IuquyDvn/+EqVPdyT98OPztb662jzHmXNWquaKJHTu6Ydz16+DjT6B1K+jT112zlJHhdytTggWORFuzBqZNgxdfhKNHXbB48EHo0MHvlpnyWFZVcITXlj8/x1Vv/vJLeGuOmxfp0cMV5mzQwO9WJi0LHImwYQO8/LLrWezY4Sb5fv5z6NnTJrmrkoCMDwWkGcGQnu6+dHXo4BYY27YNVq92w1mZme7x9h3comI2pBU3Fji8oAqrVsHMmS5gbN/uyn/86EeuVLlNchsTf+np7rqm9u3d/8F9+2DnztCSAW+451u1cqm9LVq6wp5169qXtwqwwBEvhYWu1MesWe525IgrJvhv/+aq0FqwqPoCks4UkGYEm4hbKqBxY7d8saory7N3r6sSvWYN7N3nHm/cGJo2gSZNoVGjs0NcqhZUSmGBozLy812pj9dfd2tbNG4MgwfDr37lMqPspEsullVVdYm4wor167vJ9bDjx+HgATh4EHbthPXroaDAPVe3LrRp43ooWVlnf2/Z0l1426KF67Wk4IS8BY5YHDvm1rF4911XlG3tWlekrX9/W9PCmKooIwMyWkDzYhUYXvypS2LZtctVm96zB7ZudYUY9+93PZd9+9zPzEw3Ud+0qfsMCAeU8K1Zs7O3hg2T4gulBY6yHDzohp8+/NCtvZ2bC506ua97P/yh6wKnp/vdSpMollWVWurUcbdOnUrfRtX1UPbvd7cDB1xA2bIFvv7afYaEH9+71/VwGjd2QaZFC9d7adXq3F5M+LEAr1FigSPs+HH3D710KXz6qQsYW7a43PBevWDMGFfuwy7IS10BGR8KSDMMuN5D3bru1rZt+dufPOmCyP79LsDs2we7d7tadOGezN69roeTnn42kISHy7Kyzk7whwOOD+u3p17gOHECNm50WU8rVriu59dfw+bN0K6dy//u0sWtkNepkysoaIwx8VCjxtlhq7KougSbPXtccAn/3LjRBZj8/LO3unXP9lLCwSU8FxO+NW8e19ERTz8VRWQk8BcgDXhGVR8q9ryEnh8FHAVuVdUvotm3VAUF7lqJvDx327LFvdkbNsA337j0vJYt3beDNm1coLj8cnffFjwyZQlIOlNAmmG8JHJ2qKysi4OLilwPJj//bE9lyxZXlSIywOzf765jCc+7hIfFKlhd27PAISJpwOPAZUAesFhEZqtq5BqRVwBdQrcLgCeBC6Lc99u+/NKNHYZv4QmrZs3cymLhcUTrRZiKsKwqEzTVqrkU4kaNyt6usNDNt4SHx8JzMhVch9jLT9CBwHpV3QggItOAMUDkh/8Y4HlVVeBTEWkgIi2B9lHs+201a8L555/NWjh2zEXfLVvi+XeZssyfn9yvG/k6Pv2tw5kPfrx0sv/bFnffff68bhUg7jPbgwOL3ACMVNXbQvd/CFygqndHbPMG8JCqLgzdnwf8Ghc4ytw34hgTgAmhu72B5Z78QVVPEyDf70YEgL0PZ9l7cZa9F2d1U9WYFnr3ssdRUrJy8ShV2jbR7OseVJ0MTAYQkSWqmhNLI5OVvReOvQ9n2Xtxlr0XZ4nIklj38TJw5AFtIu5nAduj3KZGFPsaY4zxgZdLaC0GuohIBxGpAYwDZhfbZjZwsziDgIOquiPKfY0xxvjAsx6Hqp4WkbuBubiU2mdVdYWI3BF6/ilgDi4Vdz0uHfdHZe0bxctOjv9fUmXZe+HY+3CWvRdn2XtxVszvhWeT48YYY5KTrfZujDEmJhY4jDHGxKTKBg4R2SQiX4tIbjidTEQmisi20GO5IjLK73YmQujCyRkislpEVonIYBFpJCLvisi60M+GfrczEUp5L1LuvBCRbhF/b66IHBKRX6TieVHGe5Fy5wWAiPxSRFaIyHIRmSoiGbGeF1V2jkNENgE5qpof8dhEoEBVH/arXX4QkeeAj1T1mVAWWi3gv4B9qvqQiNwLNFTVX/va0AQo5b34BSl4XoSFSvhsw5X1uYsUPC/Cir0XPyLFzgsRaQ0sBHqq6jEReRmXpNSTGM6LKtvjMI6I1AOGAn8HUNWTqnoAV6LludBmzwHX+NG+RCrjvUh13wU2qOpmUvC8KCbyvUhV1YFMEamO+2K1nRjPi6ocOBR4R0SWhsqOhN0tIstE5NlU6IYDHYE9wD9E5EsReUZEagPNQ9fEEPpZTh3npFDaewGpd15EGgdMDf2eiudFpMj3AlLsvFDVbcDDwBZgB+7auXeI8byoyoFjiKr2x1XYvUtEhuKq63YCsnFvyv/517yEqQ70B55U1fOAI8C9/jbJN6W9F6l4XgAQGq4bDbzid1v8VsJ7kXLnRSg4jgE6AK2A2iJyU6zHqbKBQ1W3h37uBmYBA1V1l6oWqmoR8Ddchd5klwfkqepnofszcB+eu0KVhgn93O1T+xKpxPciRc+LsCuAL1R1V+h+Kp4XYee8Fyl6XlwKfKOqe1T1FDATuJAYz4sqGThEpLaI1A3/DowAlof/8JBrSYFKuaq6E9gqIt1CD30XV35+NnBL6LFbgH/50LyEKu29SMXzIsJ4zh2aSbnzIsI570WKnhdbgEEiUktEBPd/ZBUxnhdVMqtKRDriehnghideUtUHReSfuG6nApuA28PjdslMRLKBZ3DFITfiskWqAS8DbXEny/dUdZ9fbUyUUt6LR0nN86IWsBXoqKoHQ481JjXPi5Lei1T9vJgEjAVOA18CtwF1iOG8qJKBwxhjjH+q5FCVMcYY/1jgMMYYExMLHMYYY2JigcMYY0xMLHAYY4yJiQUOY6IgIgXF7t8qIo+Vs8/oUMG4srYZJiJvlPLcL0JppMYEigUOYzyiqrNV9aFKHOIXuCJ0xgSKBQ5jKklEmorIqyKyOHQbEnr8TK9ERDqJyKeh5+8v1oOpE7GGyIvi/AxXS2i+iMz34c8yplTV/W6AMVVEpojkRtxvhCvTAPAX4E+qulBE2gJzgR7F9v8L8BdVnSoidxR77jygF6689ce4Ap6Pisg9wPDINWeMCQILHMZE55iqZofviMitQE7o7qVAT1f6B4B64VpqEQZzdo2Dl3ClrcM+V9W80HFzgfa4xXaMCSQLHMZUXjVgsKoei3wwIpCU50TE74XY/0sTcDbHYUzlvQPcHb4TKrRY3KfA9aHfx0V53MNA8Z6LMb6zwGFM5f0MyAmtJLcSKD6HAS5D6h4R+RxoCRyM4riTgbdsctwEjVXHNSYBQtdjHFNVFZFxwHhVHeN3u4ypCBtLNSYxzgceCy2ecwD4N3+bY0zFWY/DGGNMTGyOwxhjTEwscBhjjImJBQ5jjDExscBhjDEmJhY4jDHGxOT/AWIqdgWTmtE7AAAAAElFTkSuQmCC\n",
          "text/plain": "<Figure size 432x288 with 1 Axes>"
         },
         "metadata": {
          "needs_background": "light"
         },
         "output_type": "display_data"
        }
       ]
      }
     },
     "dc2995ab62fd4ff98dee122c87aaa54c": {
      "model_module": "@jupyter-widgets/base",
      "model_module_version": "1.2.0",
      "model_name": "LayoutModel",
      "state": {
       "_model_module": "@jupyter-widgets/base",
       "_model_module_version": "1.2.0",
       "_model_name": "LayoutModel",
       "_view_count": null,
       "_view_module": "@jupyter-widgets/base",
       "_view_module_version": "1.2.0",
       "_view_name": "LayoutView",
       "align_content": null,
       "align_items": null,
       "align_self": null,
       "border": null,
       "bottom": null,
       "display": null,
       "flex": null,
       "flex_flow": null,
       "grid_area": null,
       "grid_auto_columns": null,
       "grid_auto_flow": null,
       "grid_auto_rows": null,
       "grid_column": null,
       "grid_gap": null,
       "grid_row": null,
       "grid_template_areas": null,
       "grid_template_columns": null,
       "grid_template_rows": null,
       "height": null,
       "justify_content": null,
       "justify_items": null,
       "left": null,
       "margin": null,
       "max_height": null,
       "max_width": null,
       "min_height": null,
       "min_width": null,
       "object_fit": null,
       "object_position": null,
       "order": null,
       "overflow": null,
       "overflow_x": null,
       "overflow_y": null,
       "padding": null,
       "right": null,
       "top": null,
       "visibility": null,
       "width": null
      }
     },
     "e8c017e1c6b44af689e683967dc568fe": {
      "model_module": "@jupyter-widgets/controls",
      "model_module_version": "1.5.0",
      "model_name": "SliderStyleModel",
      "state": {
       "_model_module": "@jupyter-widgets/controls",
       "_model_module_version": "1.5.0",
       "_model_name": "SliderStyleModel",
       "_view_count": null,
       "_view_module": "@jupyter-widgets/base",
       "_view_module_version": "1.2.0",
       "_view_name": "StyleView",
       "description_width": "initial",
       "handle_color": null
      }
     },
     "e8c825629b204f4584148e48378adbd9": {
      "model_module": "@jupyter-widgets/base",
      "model_module_version": "1.2.0",
      "model_name": "LayoutModel",
      "state": {
       "_model_module": "@jupyter-widgets/base",
       "_model_module_version": "1.2.0",
       "_model_name": "LayoutModel",
       "_view_count": null,
       "_view_module": "@jupyter-widgets/base",
       "_view_module_version": "1.2.0",
       "_view_name": "LayoutView",
       "align_content": null,
       "align_items": null,
       "align_self": null,
       "border": null,
       "bottom": null,
       "display": null,
       "flex": null,
       "flex_flow": null,
       "grid_area": null,
       "grid_auto_columns": null,
       "grid_auto_flow": null,
       "grid_auto_rows": null,
       "grid_column": null,
       "grid_gap": null,
       "grid_row": null,
       "grid_template_areas": null,
       "grid_template_columns": null,
       "grid_template_rows": null,
       "height": null,
       "justify_content": null,
       "justify_items": null,
       "left": null,
       "margin": null,
       "max_height": null,
       "max_width": null,
       "min_height": null,
       "min_width": null,
       "object_fit": null,
       "object_position": null,
       "order": null,
       "overflow": null,
       "overflow_x": null,
       "overflow_y": null,
       "padding": null,
       "right": null,
       "top": null,
       "visibility": null,
       "width": null
      }
     },
     "e8cb880665eb4557981145bc55b32955": {
      "model_module": "@jupyter-widgets/output",
      "model_module_version": "1.0.0",
      "model_name": "OutputModel",
      "state": {
       "_dom_classes": [],
       "_model_module": "@jupyter-widgets/output",
       "_model_module_version": "1.0.0",
       "_model_name": "OutputModel",
       "_view_count": null,
       "_view_module": "@jupyter-widgets/output",
       "_view_module_version": "1.0.0",
       "_view_name": "OutputView",
       "layout": "IPY_MODEL_a838d3bfc999461c9e5a0a41f7740428",
       "msg_id": "",
       "outputs": []
      }
     },
     "ed88893ea5f749d2a1ca06c71ddf2541": {
      "model_module": "@jupyter-widgets/controls",
      "model_module_version": "1.5.0",
      "model_name": "SliderStyleModel",
      "state": {
       "_model_module": "@jupyter-widgets/controls",
       "_model_module_version": "1.5.0",
       "_model_name": "SliderStyleModel",
       "_view_count": null,
       "_view_module": "@jupyter-widgets/base",
       "_view_module_version": "1.2.0",
       "_view_name": "StyleView",
       "description_width": "",
       "handle_color": null
      }
     },
     "f5a569beb13e41c1ab9ada13b8d1c314": {
      "model_module": "@jupyter-widgets/controls",
      "model_module_version": "1.5.0",
      "model_name": "FloatSliderModel",
      "state": {
       "_dom_classes": [],
       "_model_module": "@jupyter-widgets/controls",
       "_model_module_version": "1.5.0",
       "_model_name": "FloatSliderModel",
       "_view_count": null,
       "_view_module": "@jupyter-widgets/controls",
       "_view_module_version": "1.5.0",
       "_view_name": "FloatSliderView",
       "continuous_update": true,
       "description": "magnitude",
       "description_tooltip": null,
       "disabled": false,
       "layout": "IPY_MODEL_bf90fc64290046d9b581e76a6c9cda27",
       "max": 10.0,
       "min": 0.1,
       "orientation": "horizontal",
       "readout": true,
       "readout_format": ".2f",
       "step": 0.1,
       "style": "IPY_MODEL_696daed820dd4f89a90bdd16fd04617b",
       "value": 1.0
      }
     },
     "fd51804cd35843afaae5405e1ee1309a": {
      "model_module": "bqplot",
      "model_module_version": "^0.5.34",
      "model_name": "FigureModel",
      "state": {
       "_dom_classes": [],
       "_model_module": "bqplot",
       "_model_module_version": "^0.5.34",
       "_model_name": "FigureModel",
       "_view_count": null,
       "_view_module": "bqplot",
       "_view_module_version": "^0.5.34",
       "_view_name": "Figure",
       "animation_duration": 0,
       "axes": [
        "IPY_MODEL_174cd78258644db28eaf74b9daa38efc",
        "IPY_MODEL_c947b05838a643f982b4c586e291b29a"
       ],
       "background_style": {},
       "fig_margin": {
        "bottom": 60,
        "left": 60,
        "right": 60,
        "top": 60
       },
       "interaction": null,
       "layout": "IPY_MODEL_88d36929cead4396adc40ec4d755d362",
       "legend_location": "top-right",
       "legend_style": {},
       "legend_text": {},
       "marks": [
        "IPY_MODEL_03c8abc82ce7495aa84af07911d9dbb1"
       ],
       "max_aspect_ratio": 1.0,
       "min_aspect_ratio": 1.0,
       "padding_x": 0.0,
       "padding_y": 0.025,
       "pixel_ratio": null,
       "scale_x": "IPY_MODEL_a51d89d4afab40ddbdea42d230f27383",
       "scale_y": "IPY_MODEL_7985eb2a400443cab34c5b33562c7c1f",
       "theme": "classic",
       "title": "",
       "title_style": {}
      }
     }
    },
    "version_major": 2,
    "version_minor": 0
   }
  }
 },
 "nbformat": 4,
 "nbformat_minor": 5
}